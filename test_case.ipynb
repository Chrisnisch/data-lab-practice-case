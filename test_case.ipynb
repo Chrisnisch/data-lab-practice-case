{
 "cells": [
  {
   "metadata": {},
   "cell_type": "markdown",
   "source": [
    "# Тест-кейс\n",
    "1. Перед вами результаты участников эксперимента по мониторингу веса.\n",
    "2. Посмотрите в каждом датасете первые 5 строк и последние 5 строк.\n",
    "3. Посмотрите информацию о каждом датасете.\n",
    "4. Проверьте датасеты на наличие дублей. Если дубли есть, то удалите их.\n",
    "5. Переименуйте колонки в датасетах, чтобы они не содержали только строчные латинские буквы и символ \"_\".\n",
    "6. Объедините датасеты по номеру участников\n",
    "7. Посмотрите распределение по  полу и возрасту участников, постройте график распределений. Сделайте выводы об имеющейся выборке и напишите их в текстовом поле.\n",
    "8. Посчитайте корреляцию между финальным весом и остальными параметрами датасета. Сделайте матрицу корреляции в виде графика. Ответьте на вопрос: какие факторы наиболее значимые для итогового веса?\n",
    "9. Можете провести еще дополнительный анализ данных и сделать дополнительные выводы. Творческий подход приветствуется."
   ],
   "id": "3bc5bd5ba37b92a5"
  },
  {
   "cell_type": "code",
   "id": "initial_id",
   "metadata": {
    "collapsed": true,
    "ExecuteTime": {
     "end_time": "2024-11-17T21:29:38.172115Z",
     "start_time": "2024-11-17T21:29:38.133811Z"
    }
   },
   "source": [
    "from typing import final\n",
    "\n",
    "import pandas as pd\n",
    "import numpy as np\n",
    "import scipy.stats as stats\n",
    "\n",
    "import seaborn as sns\n",
    "import matplotlib.pyplot as plt\n",
    "from pyexpat import features\n",
    "\n",
    "from IPython.core.pylabtools import figsize\n",
    "\n",
    "%matplotlib inline"
   ],
   "outputs": [],
   "execution_count": 2
  },
  {
   "metadata": {},
   "cell_type": "markdown",
   "source": "## Импорт и подготовка данных",
   "id": "2531caabb9702bdc"
  },
  {
   "metadata": {
    "ExecuteTime": {
     "end_time": "2024-11-17T21:29:38.186958Z",
     "start_time": "2024-11-17T21:29:38.175372Z"
    }
   },
   "cell_type": "code",
   "source": [
    "experiments = pd.read_csv('experiments.csv')\n",
    "participants = pd.read_csv('participants.csv', sep=';')"
   ],
   "id": "28264a0b128f0a44",
   "outputs": [],
   "execution_count": 3
  },
  {
   "metadata": {
    "ExecuteTime": {
     "end_time": "2024-11-17T21:29:38.264977Z",
     "start_time": "2024-11-17T21:29:38.235707Z"
    }
   },
   "cell_type": "code",
   "source": "experiments.head()",
   "id": "942ac8ddf329c287",
   "outputs": [
    {
     "data": {
      "text/plain": [
       "   Participant ID  Current Weight (lbs)  BMR (Calories)  \\\n",
       "0               1                 228.4          3102.3   \n",
       "1               2                 165.4          2275.5   \n",
       "2               3                 142.8          2119.4   \n",
       "3               4                 145.5          2181.3   \n",
       "4               5                 155.5          2463.8   \n",
       "\n",
       "   Daily Calories Consumed  Daily Caloric Surplus/Deficit  \\\n",
       "0                   3916.0                          813.7   \n",
       "1                   3823.0                         1547.5   \n",
       "2                   2785.4                          666.0   \n",
       "3                   2587.3                          406.0   \n",
       "4                   3312.8                          849.0   \n",
       "\n",
       "   Weight Change (lbs)  Duration (weeks) Physical Activity Level  \\\n",
       "0                  0.2                 1               Sedentary   \n",
       "1                  2.4                 6             Very Active   \n",
       "2                  1.4                 7               Sedentary   \n",
       "3                  0.8                 8               Sedentary   \n",
       "4                  2.0                10          Lightly Active   \n",
       "\n",
       "  Sleep Quality  Stress Level  Final Weight (lbs)  \n",
       "0     Excellent             6               228.6  \n",
       "1     Excellent             6               167.8  \n",
       "2          Good             3               144.2  \n",
       "3          Fair             2               146.3  \n",
       "4          Good             1               157.5  "
      ],
      "text/html": [
       "<div>\n",
       "<style scoped>\n",
       "    .dataframe tbody tr th:only-of-type {\n",
       "        vertical-align: middle;\n",
       "    }\n",
       "\n",
       "    .dataframe tbody tr th {\n",
       "        vertical-align: top;\n",
       "    }\n",
       "\n",
       "    .dataframe thead th {\n",
       "        text-align: right;\n",
       "    }\n",
       "</style>\n",
       "<table border=\"1\" class=\"dataframe\">\n",
       "  <thead>\n",
       "    <tr style=\"text-align: right;\">\n",
       "      <th></th>\n",
       "      <th>Participant ID</th>\n",
       "      <th>Current Weight (lbs)</th>\n",
       "      <th>BMR (Calories)</th>\n",
       "      <th>Daily Calories Consumed</th>\n",
       "      <th>Daily Caloric Surplus/Deficit</th>\n",
       "      <th>Weight Change (lbs)</th>\n",
       "      <th>Duration (weeks)</th>\n",
       "      <th>Physical Activity Level</th>\n",
       "      <th>Sleep Quality</th>\n",
       "      <th>Stress Level</th>\n",
       "      <th>Final Weight (lbs)</th>\n",
       "    </tr>\n",
       "  </thead>\n",
       "  <tbody>\n",
       "    <tr>\n",
       "      <th>0</th>\n",
       "      <td>1</td>\n",
       "      <td>228.4</td>\n",
       "      <td>3102.3</td>\n",
       "      <td>3916.0</td>\n",
       "      <td>813.7</td>\n",
       "      <td>0.2</td>\n",
       "      <td>1</td>\n",
       "      <td>Sedentary</td>\n",
       "      <td>Excellent</td>\n",
       "      <td>6</td>\n",
       "      <td>228.6</td>\n",
       "    </tr>\n",
       "    <tr>\n",
       "      <th>1</th>\n",
       "      <td>2</td>\n",
       "      <td>165.4</td>\n",
       "      <td>2275.5</td>\n",
       "      <td>3823.0</td>\n",
       "      <td>1547.5</td>\n",
       "      <td>2.4</td>\n",
       "      <td>6</td>\n",
       "      <td>Very Active</td>\n",
       "      <td>Excellent</td>\n",
       "      <td>6</td>\n",
       "      <td>167.8</td>\n",
       "    </tr>\n",
       "    <tr>\n",
       "      <th>2</th>\n",
       "      <td>3</td>\n",
       "      <td>142.8</td>\n",
       "      <td>2119.4</td>\n",
       "      <td>2785.4</td>\n",
       "      <td>666.0</td>\n",
       "      <td>1.4</td>\n",
       "      <td>7</td>\n",
       "      <td>Sedentary</td>\n",
       "      <td>Good</td>\n",
       "      <td>3</td>\n",
       "      <td>144.2</td>\n",
       "    </tr>\n",
       "    <tr>\n",
       "      <th>3</th>\n",
       "      <td>4</td>\n",
       "      <td>145.5</td>\n",
       "      <td>2181.3</td>\n",
       "      <td>2587.3</td>\n",
       "      <td>406.0</td>\n",
       "      <td>0.8</td>\n",
       "      <td>8</td>\n",
       "      <td>Sedentary</td>\n",
       "      <td>Fair</td>\n",
       "      <td>2</td>\n",
       "      <td>146.3</td>\n",
       "    </tr>\n",
       "    <tr>\n",
       "      <th>4</th>\n",
       "      <td>5</td>\n",
       "      <td>155.5</td>\n",
       "      <td>2463.8</td>\n",
       "      <td>3312.8</td>\n",
       "      <td>849.0</td>\n",
       "      <td>2.0</td>\n",
       "      <td>10</td>\n",
       "      <td>Lightly Active</td>\n",
       "      <td>Good</td>\n",
       "      <td>1</td>\n",
       "      <td>157.5</td>\n",
       "    </tr>\n",
       "  </tbody>\n",
       "</table>\n",
       "</div>"
      ]
     },
     "execution_count": 4,
     "metadata": {},
     "output_type": "execute_result"
    }
   ],
   "execution_count": 4
  },
  {
   "metadata": {
    "ExecuteTime": {
     "end_time": "2024-11-17T21:29:38.341705Z",
     "start_time": "2024-11-17T21:29:38.328194Z"
    }
   },
   "cell_type": "code",
   "source": "experiments.tail()",
   "id": "a4df8f0fe370bc78",
   "outputs": [
    {
     "data": {
      "text/plain": [
       "    Participant ID  Current Weight (lbs)  BMR (Calories)  \\\n",
       "95              96                 181.9          2622.8   \n",
       "96              97                 116.5          1736.5   \n",
       "97              98                 162.7          2188.6   \n",
       "98              99                 179.8          2671.9   \n",
       "99             100                 185.2          2830.7   \n",
       "\n",
       "    Daily Calories Consumed  Daily Caloric Surplus/Deficit  \\\n",
       "95                   3656.2                         1033.4   \n",
       "96                   2756.5                         1020.0   \n",
       "97                   3344.3                         1155.8   \n",
       "98                   4000.0                         1328.1   \n",
       "99                   4000.0                         1169.3   \n",
       "\n",
       "    Weight Change (lbs)  Duration (weeks) Physical Activity Level  \\\n",
       "95              0.60000                 2          Lightly Active   \n",
       "96             -8.92309                12       Moderately Active   \n",
       "97              3.60000                12          Lightly Active   \n",
       "98              2.00000                 5       Moderately Active   \n",
       "99              2.70000                 9             Very Active   \n",
       "\n",
       "   Sleep Quality  Stress Level  Final Weight (lbs)  \n",
       "95     Excellent             3               182.5  \n",
       "96          Good             9               107.6  \n",
       "97          Fair             7               166.3  \n",
       "98          Fair             5               181.8  \n",
       "99          Fair             7               187.9  "
      ],
      "text/html": [
       "<div>\n",
       "<style scoped>\n",
       "    .dataframe tbody tr th:only-of-type {\n",
       "        vertical-align: middle;\n",
       "    }\n",
       "\n",
       "    .dataframe tbody tr th {\n",
       "        vertical-align: top;\n",
       "    }\n",
       "\n",
       "    .dataframe thead th {\n",
       "        text-align: right;\n",
       "    }\n",
       "</style>\n",
       "<table border=\"1\" class=\"dataframe\">\n",
       "  <thead>\n",
       "    <tr style=\"text-align: right;\">\n",
       "      <th></th>\n",
       "      <th>Participant ID</th>\n",
       "      <th>Current Weight (lbs)</th>\n",
       "      <th>BMR (Calories)</th>\n",
       "      <th>Daily Calories Consumed</th>\n",
       "      <th>Daily Caloric Surplus/Deficit</th>\n",
       "      <th>Weight Change (lbs)</th>\n",
       "      <th>Duration (weeks)</th>\n",
       "      <th>Physical Activity Level</th>\n",
       "      <th>Sleep Quality</th>\n",
       "      <th>Stress Level</th>\n",
       "      <th>Final Weight (lbs)</th>\n",
       "    </tr>\n",
       "  </thead>\n",
       "  <tbody>\n",
       "    <tr>\n",
       "      <th>95</th>\n",
       "      <td>96</td>\n",
       "      <td>181.9</td>\n",
       "      <td>2622.8</td>\n",
       "      <td>3656.2</td>\n",
       "      <td>1033.4</td>\n",
       "      <td>0.60000</td>\n",
       "      <td>2</td>\n",
       "      <td>Lightly Active</td>\n",
       "      <td>Excellent</td>\n",
       "      <td>3</td>\n",
       "      <td>182.5</td>\n",
       "    </tr>\n",
       "    <tr>\n",
       "      <th>96</th>\n",
       "      <td>97</td>\n",
       "      <td>116.5</td>\n",
       "      <td>1736.5</td>\n",
       "      <td>2756.5</td>\n",
       "      <td>1020.0</td>\n",
       "      <td>-8.92309</td>\n",
       "      <td>12</td>\n",
       "      <td>Moderately Active</td>\n",
       "      <td>Good</td>\n",
       "      <td>9</td>\n",
       "      <td>107.6</td>\n",
       "    </tr>\n",
       "    <tr>\n",
       "      <th>97</th>\n",
       "      <td>98</td>\n",
       "      <td>162.7</td>\n",
       "      <td>2188.6</td>\n",
       "      <td>3344.3</td>\n",
       "      <td>1155.8</td>\n",
       "      <td>3.60000</td>\n",
       "      <td>12</td>\n",
       "      <td>Lightly Active</td>\n",
       "      <td>Fair</td>\n",
       "      <td>7</td>\n",
       "      <td>166.3</td>\n",
       "    </tr>\n",
       "    <tr>\n",
       "      <th>98</th>\n",
       "      <td>99</td>\n",
       "      <td>179.8</td>\n",
       "      <td>2671.9</td>\n",
       "      <td>4000.0</td>\n",
       "      <td>1328.1</td>\n",
       "      <td>2.00000</td>\n",
       "      <td>5</td>\n",
       "      <td>Moderately Active</td>\n",
       "      <td>Fair</td>\n",
       "      <td>5</td>\n",
       "      <td>181.8</td>\n",
       "    </tr>\n",
       "    <tr>\n",
       "      <th>99</th>\n",
       "      <td>100</td>\n",
       "      <td>185.2</td>\n",
       "      <td>2830.7</td>\n",
       "      <td>4000.0</td>\n",
       "      <td>1169.3</td>\n",
       "      <td>2.70000</td>\n",
       "      <td>9</td>\n",
       "      <td>Very Active</td>\n",
       "      <td>Fair</td>\n",
       "      <td>7</td>\n",
       "      <td>187.9</td>\n",
       "    </tr>\n",
       "  </tbody>\n",
       "</table>\n",
       "</div>"
      ]
     },
     "execution_count": 5,
     "metadata": {},
     "output_type": "execute_result"
    }
   ],
   "execution_count": 5
  },
  {
   "metadata": {
    "ExecuteTime": {
     "end_time": "2024-11-17T21:29:38.433976Z",
     "start_time": "2024-11-17T21:29:38.420502Z"
    }
   },
   "cell_type": "code",
   "source": "participants.head()",
   "id": "5d44bdd81f19fd60",
   "outputs": [
    {
     "data": {
      "text/plain": [
       "   Participant ID  Age Gender\n",
       "0               1   56      M\n",
       "1               2   46      F\n",
       "2               3   32      F\n",
       "3               4   25      F\n",
       "4               5   38      M"
      ],
      "text/html": [
       "<div>\n",
       "<style scoped>\n",
       "    .dataframe tbody tr th:only-of-type {\n",
       "        vertical-align: middle;\n",
       "    }\n",
       "\n",
       "    .dataframe tbody tr th {\n",
       "        vertical-align: top;\n",
       "    }\n",
       "\n",
       "    .dataframe thead th {\n",
       "        text-align: right;\n",
       "    }\n",
       "</style>\n",
       "<table border=\"1\" class=\"dataframe\">\n",
       "  <thead>\n",
       "    <tr style=\"text-align: right;\">\n",
       "      <th></th>\n",
       "      <th>Participant ID</th>\n",
       "      <th>Age</th>\n",
       "      <th>Gender</th>\n",
       "    </tr>\n",
       "  </thead>\n",
       "  <tbody>\n",
       "    <tr>\n",
       "      <th>0</th>\n",
       "      <td>1</td>\n",
       "      <td>56</td>\n",
       "      <td>M</td>\n",
       "    </tr>\n",
       "    <tr>\n",
       "      <th>1</th>\n",
       "      <td>2</td>\n",
       "      <td>46</td>\n",
       "      <td>F</td>\n",
       "    </tr>\n",
       "    <tr>\n",
       "      <th>2</th>\n",
       "      <td>3</td>\n",
       "      <td>32</td>\n",
       "      <td>F</td>\n",
       "    </tr>\n",
       "    <tr>\n",
       "      <th>3</th>\n",
       "      <td>4</td>\n",
       "      <td>25</td>\n",
       "      <td>F</td>\n",
       "    </tr>\n",
       "    <tr>\n",
       "      <th>4</th>\n",
       "      <td>5</td>\n",
       "      <td>38</td>\n",
       "      <td>M</td>\n",
       "    </tr>\n",
       "  </tbody>\n",
       "</table>\n",
       "</div>"
      ]
     },
     "execution_count": 6,
     "metadata": {},
     "output_type": "execute_result"
    }
   ],
   "execution_count": 6
  },
  {
   "metadata": {
    "ExecuteTime": {
     "end_time": "2024-11-17T21:29:38.634583Z",
     "start_time": "2024-11-17T21:29:38.620236Z"
    }
   },
   "cell_type": "code",
   "source": "participants.tail()",
   "id": "d9286dc3693560fb",
   "outputs": [
    {
     "data": {
      "text/plain": [
       "    Participant ID  Age Gender\n",
       "95              96   59      M\n",
       "96              97   56      F\n",
       "97              98   58      F\n",
       "98              99   45      M\n",
       "99             100   24      M"
      ],
      "text/html": [
       "<div>\n",
       "<style scoped>\n",
       "    .dataframe tbody tr th:only-of-type {\n",
       "        vertical-align: middle;\n",
       "    }\n",
       "\n",
       "    .dataframe tbody tr th {\n",
       "        vertical-align: top;\n",
       "    }\n",
       "\n",
       "    .dataframe thead th {\n",
       "        text-align: right;\n",
       "    }\n",
       "</style>\n",
       "<table border=\"1\" class=\"dataframe\">\n",
       "  <thead>\n",
       "    <tr style=\"text-align: right;\">\n",
       "      <th></th>\n",
       "      <th>Participant ID</th>\n",
       "      <th>Age</th>\n",
       "      <th>Gender</th>\n",
       "    </tr>\n",
       "  </thead>\n",
       "  <tbody>\n",
       "    <tr>\n",
       "      <th>95</th>\n",
       "      <td>96</td>\n",
       "      <td>59</td>\n",
       "      <td>M</td>\n",
       "    </tr>\n",
       "    <tr>\n",
       "      <th>96</th>\n",
       "      <td>97</td>\n",
       "      <td>56</td>\n",
       "      <td>F</td>\n",
       "    </tr>\n",
       "    <tr>\n",
       "      <th>97</th>\n",
       "      <td>98</td>\n",
       "      <td>58</td>\n",
       "      <td>F</td>\n",
       "    </tr>\n",
       "    <tr>\n",
       "      <th>98</th>\n",
       "      <td>99</td>\n",
       "      <td>45</td>\n",
       "      <td>M</td>\n",
       "    </tr>\n",
       "    <tr>\n",
       "      <th>99</th>\n",
       "      <td>100</td>\n",
       "      <td>24</td>\n",
       "      <td>M</td>\n",
       "    </tr>\n",
       "  </tbody>\n",
       "</table>\n",
       "</div>"
      ]
     },
     "execution_count": 7,
     "metadata": {},
     "output_type": "execute_result"
    }
   ],
   "execution_count": 7
  },
  {
   "metadata": {
    "ExecuteTime": {
     "end_time": "2024-11-17T21:29:38.759085Z",
     "start_time": "2024-11-17T21:29:38.744085Z"
    }
   },
   "cell_type": "code",
   "source": "experiments.info()",
   "id": "f0b557f4c9b95284",
   "outputs": [
    {
     "name": "stdout",
     "output_type": "stream",
     "text": [
      "<class 'pandas.core.frame.DataFrame'>\n",
      "RangeIndex: 100 entries, 0 to 99\n",
      "Data columns (total 11 columns):\n",
      " #   Column                         Non-Null Count  Dtype  \n",
      "---  ------                         --------------  -----  \n",
      " 0   Participant ID                 100 non-null    int64  \n",
      " 1   Current Weight (lbs)           100 non-null    float64\n",
      " 2   BMR (Calories)                 100 non-null    float64\n",
      " 3   Daily Calories Consumed        100 non-null    float64\n",
      " 4   Daily Caloric Surplus/Deficit  100 non-null    float64\n",
      " 5   Weight Change (lbs)            100 non-null    float64\n",
      " 6   Duration (weeks)               100 non-null    int64  \n",
      " 7   Physical Activity Level        100 non-null    object \n",
      " 8   Sleep Quality                  100 non-null    object \n",
      " 9   Stress Level                   100 non-null    int64  \n",
      " 10  Final Weight (lbs)             100 non-null    float64\n",
      "dtypes: float64(6), int64(3), object(2)\n",
      "memory usage: 8.7+ KB\n"
     ]
    }
   ],
   "execution_count": 8
  },
  {
   "metadata": {
    "ExecuteTime": {
     "end_time": "2024-11-17T21:29:38.929625Z",
     "start_time": "2024-11-17T21:29:38.914707Z"
    }
   },
   "cell_type": "code",
   "source": "participants.info()",
   "id": "5b728057822870fc",
   "outputs": [
    {
     "name": "stdout",
     "output_type": "stream",
     "text": [
      "<class 'pandas.core.frame.DataFrame'>\n",
      "RangeIndex: 100 entries, 0 to 99\n",
      "Data columns (total 3 columns):\n",
      " #   Column          Non-Null Count  Dtype \n",
      "---  ------          --------------  ----- \n",
      " 0   Participant ID  100 non-null    int64 \n",
      " 1   Age             100 non-null    int64 \n",
      " 2   Gender          100 non-null    object\n",
      "dtypes: int64(2), object(1)\n",
      "memory usage: 2.5+ KB\n"
     ]
    }
   ],
   "execution_count": 9
  },
  {
   "metadata": {
    "ExecuteTime": {
     "end_time": "2024-11-17T21:29:39.113427Z",
     "start_time": "2024-11-17T21:29:39.100076Z"
    }
   },
   "cell_type": "code",
   "source": [
    "experiments = experiments.rename(str.lower, axis='columns')\n",
    "experiments.columns = experiments.columns.str.replace('\\s', '_', regex=True).str.replace('[^_\\w]', '', regex=True)\n",
    "experiments = experiments.rename(columns={'daily_caloric_surplusdeficit': 'daily_caloric_surplus_or_deficit'})\n",
    "participants = participants.rename(str.lower, axis='columns')\n",
    "participants.columns = participants.columns.str.replace('\\s', '_', regex=True)"
   ],
   "id": "cb363b149f891432",
   "outputs": [],
   "execution_count": 10
  },
  {
   "metadata": {
    "ExecuteTime": {
     "end_time": "2024-11-17T21:29:39.173970Z",
     "start_time": "2024-11-17T21:29:39.155984Z"
    }
   },
   "cell_type": "code",
   "source": "experiments.columns",
   "id": "f2208d3a3aafe567",
   "outputs": [
    {
     "data": {
      "text/plain": [
       "Index(['participant_id', 'current_weight_lbs', 'bmr_calories',\n",
       "       'daily_calories_consumed', 'daily_caloric_surplus_or_deficit',\n",
       "       'weight_change_lbs', 'duration_weeks', 'physical_activity_level',\n",
       "       'sleep_quality', 'stress_level', 'final_weight_lbs'],\n",
       "      dtype='object')"
      ]
     },
     "execution_count": 11,
     "metadata": {},
     "output_type": "execute_result"
    }
   ],
   "execution_count": 11
  },
  {
   "metadata": {
    "ExecuteTime": {
     "end_time": "2024-11-17T21:29:39.205222Z",
     "start_time": "2024-11-17T21:29:39.190210Z"
    }
   },
   "cell_type": "code",
   "source": "participants.columns",
   "id": "fd9ee75e1d881303",
   "outputs": [
    {
     "data": {
      "text/plain": [
       "Index(['participant_id', 'age', 'gender'], dtype='object')"
      ]
     },
     "execution_count": 12,
     "metadata": {},
     "output_type": "execute_result"
    }
   ],
   "execution_count": 12
  },
  {
   "metadata": {
    "ExecuteTime": {
     "end_time": "2024-11-17T21:29:39.252319Z",
     "start_time": "2024-11-17T21:29:39.235698Z"
    }
   },
   "cell_type": "code",
   "source": [
    "experiments = experiments.drop_duplicates()\n",
    "participants = participants.drop_duplicates()"
   ],
   "id": "e1fb9136487a60c",
   "outputs": [],
   "execution_count": 13
  },
  {
   "metadata": {
    "ExecuteTime": {
     "end_time": "2024-11-17T21:29:39.282655Z",
     "start_time": "2024-11-17T21:29:39.272573Z"
    }
   },
   "cell_type": "code",
   "source": [
    "print(experiments.nunique(), '\\n')\n",
    "print(participants.nunique())"
   ],
   "id": "333eec93fb8c6f9c",
   "outputs": [
    {
     "name": "stdout",
     "output_type": "stream",
     "text": [
      "participant_id                      100\n",
      "current_weight_lbs                   94\n",
      "bmr_calories                        100\n",
      "daily_calories_consumed              67\n",
      "daily_caloric_surplus_or_deficit    100\n",
      "weight_change_lbs                    71\n",
      "duration_weeks                       12\n",
      "physical_activity_level               4\n",
      "sleep_quality                         4\n",
      "stress_level                          9\n",
      "final_weight_lbs                     97\n",
      "dtype: int64 \n",
      "\n",
      "participant_id    100\n",
      "age                40\n",
      "gender              2\n",
      "dtype: int64\n"
     ]
    }
   ],
   "execution_count": 14
  },
  {
   "metadata": {
    "ExecuteTime": {
     "end_time": "2024-11-17T21:29:39.329254Z",
     "start_time": "2024-11-17T21:29:39.318991Z"
    }
   },
   "cell_type": "code",
   "source": "full_data = experiments.merge(participants, on='participant_id')",
   "id": "698e4c23421cb48c",
   "outputs": [],
   "execution_count": 15
  },
  {
   "metadata": {
    "ExecuteTime": {
     "end_time": "2024-11-17T21:29:39.375857Z",
     "start_time": "2024-11-17T21:29:39.355336Z"
    }
   },
   "cell_type": "code",
   "source": "full_data.head()",
   "id": "c77b7755196ff6ff",
   "outputs": [
    {
     "data": {
      "text/plain": [
       "   participant_id  current_weight_lbs  bmr_calories  daily_calories_consumed  \\\n",
       "0               1               228.4        3102.3                   3916.0   \n",
       "1               2               165.4        2275.5                   3823.0   \n",
       "2               3               142.8        2119.4                   2785.4   \n",
       "3               4               145.5        2181.3                   2587.3   \n",
       "4               5               155.5        2463.8                   3312.8   \n",
       "\n",
       "   daily_caloric_surplus_or_deficit  weight_change_lbs  duration_weeks  \\\n",
       "0                             813.7                0.2               1   \n",
       "1                            1547.5                2.4               6   \n",
       "2                             666.0                1.4               7   \n",
       "3                             406.0                0.8               8   \n",
       "4                             849.0                2.0              10   \n",
       "\n",
       "  physical_activity_level sleep_quality  stress_level  final_weight_lbs  age  \\\n",
       "0               Sedentary     Excellent             6             228.6   56   \n",
       "1             Very Active     Excellent             6             167.8   46   \n",
       "2               Sedentary          Good             3             144.2   32   \n",
       "3               Sedentary          Fair             2             146.3   25   \n",
       "4          Lightly Active          Good             1             157.5   38   \n",
       "\n",
       "  gender  \n",
       "0      M  \n",
       "1      F  \n",
       "2      F  \n",
       "3      F  \n",
       "4      M  "
      ],
      "text/html": [
       "<div>\n",
       "<style scoped>\n",
       "    .dataframe tbody tr th:only-of-type {\n",
       "        vertical-align: middle;\n",
       "    }\n",
       "\n",
       "    .dataframe tbody tr th {\n",
       "        vertical-align: top;\n",
       "    }\n",
       "\n",
       "    .dataframe thead th {\n",
       "        text-align: right;\n",
       "    }\n",
       "</style>\n",
       "<table border=\"1\" class=\"dataframe\">\n",
       "  <thead>\n",
       "    <tr style=\"text-align: right;\">\n",
       "      <th></th>\n",
       "      <th>participant_id</th>\n",
       "      <th>current_weight_lbs</th>\n",
       "      <th>bmr_calories</th>\n",
       "      <th>daily_calories_consumed</th>\n",
       "      <th>daily_caloric_surplus_or_deficit</th>\n",
       "      <th>weight_change_lbs</th>\n",
       "      <th>duration_weeks</th>\n",
       "      <th>physical_activity_level</th>\n",
       "      <th>sleep_quality</th>\n",
       "      <th>stress_level</th>\n",
       "      <th>final_weight_lbs</th>\n",
       "      <th>age</th>\n",
       "      <th>gender</th>\n",
       "    </tr>\n",
       "  </thead>\n",
       "  <tbody>\n",
       "    <tr>\n",
       "      <th>0</th>\n",
       "      <td>1</td>\n",
       "      <td>228.4</td>\n",
       "      <td>3102.3</td>\n",
       "      <td>3916.0</td>\n",
       "      <td>813.7</td>\n",
       "      <td>0.2</td>\n",
       "      <td>1</td>\n",
       "      <td>Sedentary</td>\n",
       "      <td>Excellent</td>\n",
       "      <td>6</td>\n",
       "      <td>228.6</td>\n",
       "      <td>56</td>\n",
       "      <td>M</td>\n",
       "    </tr>\n",
       "    <tr>\n",
       "      <th>1</th>\n",
       "      <td>2</td>\n",
       "      <td>165.4</td>\n",
       "      <td>2275.5</td>\n",
       "      <td>3823.0</td>\n",
       "      <td>1547.5</td>\n",
       "      <td>2.4</td>\n",
       "      <td>6</td>\n",
       "      <td>Very Active</td>\n",
       "      <td>Excellent</td>\n",
       "      <td>6</td>\n",
       "      <td>167.8</td>\n",
       "      <td>46</td>\n",
       "      <td>F</td>\n",
       "    </tr>\n",
       "    <tr>\n",
       "      <th>2</th>\n",
       "      <td>3</td>\n",
       "      <td>142.8</td>\n",
       "      <td>2119.4</td>\n",
       "      <td>2785.4</td>\n",
       "      <td>666.0</td>\n",
       "      <td>1.4</td>\n",
       "      <td>7</td>\n",
       "      <td>Sedentary</td>\n",
       "      <td>Good</td>\n",
       "      <td>3</td>\n",
       "      <td>144.2</td>\n",
       "      <td>32</td>\n",
       "      <td>F</td>\n",
       "    </tr>\n",
       "    <tr>\n",
       "      <th>3</th>\n",
       "      <td>4</td>\n",
       "      <td>145.5</td>\n",
       "      <td>2181.3</td>\n",
       "      <td>2587.3</td>\n",
       "      <td>406.0</td>\n",
       "      <td>0.8</td>\n",
       "      <td>8</td>\n",
       "      <td>Sedentary</td>\n",
       "      <td>Fair</td>\n",
       "      <td>2</td>\n",
       "      <td>146.3</td>\n",
       "      <td>25</td>\n",
       "      <td>F</td>\n",
       "    </tr>\n",
       "    <tr>\n",
       "      <th>4</th>\n",
       "      <td>5</td>\n",
       "      <td>155.5</td>\n",
       "      <td>2463.8</td>\n",
       "      <td>3312.8</td>\n",
       "      <td>849.0</td>\n",
       "      <td>2.0</td>\n",
       "      <td>10</td>\n",
       "      <td>Lightly Active</td>\n",
       "      <td>Good</td>\n",
       "      <td>1</td>\n",
       "      <td>157.5</td>\n",
       "      <td>38</td>\n",
       "      <td>M</td>\n",
       "    </tr>\n",
       "  </tbody>\n",
       "</table>\n",
       "</div>"
      ]
     },
     "execution_count": 16,
     "metadata": {},
     "output_type": "execute_result"
    }
   ],
   "execution_count": 16
  },
  {
   "metadata": {
    "ExecuteTime": {
     "end_time": "2024-11-17T21:29:39.453160Z",
     "start_time": "2024-11-17T21:29:39.439399Z"
    }
   },
   "cell_type": "code",
   "source": "full_data.info()",
   "id": "34d502da72431962",
   "outputs": [
    {
     "name": "stdout",
     "output_type": "stream",
     "text": [
      "<class 'pandas.core.frame.DataFrame'>\n",
      "RangeIndex: 100 entries, 0 to 99\n",
      "Data columns (total 13 columns):\n",
      " #   Column                            Non-Null Count  Dtype  \n",
      "---  ------                            --------------  -----  \n",
      " 0   participant_id                    100 non-null    int64  \n",
      " 1   current_weight_lbs                100 non-null    float64\n",
      " 2   bmr_calories                      100 non-null    float64\n",
      " 3   daily_calories_consumed           100 non-null    float64\n",
      " 4   daily_caloric_surplus_or_deficit  100 non-null    float64\n",
      " 5   weight_change_lbs                 100 non-null    float64\n",
      " 6   duration_weeks                    100 non-null    int64  \n",
      " 7   physical_activity_level           100 non-null    object \n",
      " 8   sleep_quality                     100 non-null    object \n",
      " 9   stress_level                      100 non-null    int64  \n",
      " 10  final_weight_lbs                  100 non-null    float64\n",
      " 11  age                               100 non-null    int64  \n",
      " 12  gender                            100 non-null    object \n",
      "dtypes: float64(6), int64(4), object(3)\n",
      "memory usage: 10.3+ KB\n"
     ]
    }
   ],
   "execution_count": 17
  },
  {
   "metadata": {
    "ExecuteTime": {
     "end_time": "2024-11-17T21:29:39.545528Z",
     "start_time": "2024-11-17T21:29:39.531984Z"
    }
   },
   "cell_type": "code",
   "source": "full_data['physical_activity_level'].unique()",
   "id": "f01c1d98b6093ba3",
   "outputs": [
    {
     "data": {
      "text/plain": [
       "array(['Sedentary', 'Very Active', 'Lightly Active', 'Moderately Active'],\n",
       "      dtype=object)"
      ]
     },
     "execution_count": 18,
     "metadata": {},
     "output_type": "execute_result"
    }
   ],
   "execution_count": 18
  },
  {
   "metadata": {
    "ExecuteTime": {
     "end_time": "2024-11-17T21:29:39.638036Z",
     "start_time": "2024-11-17T21:29:39.619675Z"
    }
   },
   "cell_type": "code",
   "source": [
    "d = {'Sedentary': 0, 'Lightly Active': 1, 'Moderately Active': 2, 'Very Active': 3}\n",
    "full_data['physical_activity_level'] = full_data['physical_activity_level'].map(d)"
   ],
   "id": "8e45867437524021",
   "outputs": [],
   "execution_count": 19
  },
  {
   "metadata": {
    "ExecuteTime": {
     "end_time": "2024-11-17T21:29:39.699902Z",
     "start_time": "2024-11-17T21:29:39.693842Z"
    }
   },
   "cell_type": "code",
   "source": "full_data['sleep_quality'].unique()",
   "id": "77c08b76b52fc8c8",
   "outputs": [
    {
     "data": {
      "text/plain": [
       "array(['Excellent', 'Good', 'Fair', 'Poor'], dtype=object)"
      ]
     },
     "execution_count": 20,
     "metadata": {},
     "output_type": "execute_result"
    }
   ],
   "execution_count": 20
  },
  {
   "metadata": {
    "ExecuteTime": {
     "end_time": "2024-11-17T21:29:39.746987Z",
     "start_time": "2024-11-17T21:29:39.728942Z"
    }
   },
   "cell_type": "code",
   "source": [
    "d = {'Poor': 0, 'Fair': 1, 'Good': 2, 'Excellent': 3}\n",
    "full_data['sleep_quality'] = full_data['sleep_quality'].map(d)"
   ],
   "id": "9bf84bffbb8cecf6",
   "outputs": [],
   "execution_count": 21
  },
  {
   "metadata": {
    "ExecuteTime": {
     "end_time": "2024-11-17T21:29:39.778292Z",
     "start_time": "2024-11-17T21:29:39.764197Z"
    }
   },
   "cell_type": "code",
   "source": [
    "d = {'M': 0, 'F': 1}\n",
    "full_data['gender'] = full_data['gender'].map(d)"
   ],
   "id": "a95b151b2a7823da",
   "outputs": [],
   "execution_count": 22
  },
  {
   "metadata": {
    "ExecuteTime": {
     "end_time": "2024-11-17T21:29:39.810210Z",
     "start_time": "2024-11-17T21:29:39.796196Z"
    }
   },
   "cell_type": "code",
   "source": "full_data = full_data.drop(['weight_change_lbs'], axis=1) # удаляем вычисляемый столбец",
   "id": "37992040afc6e28e",
   "outputs": [],
   "execution_count": 23
  },
  {
   "metadata": {},
   "cell_type": "markdown",
   "source": "Я принял решения оставить столбец daily_caloric_surplus_or_deficit, хотя он и является вычисляемым, т.к. он может быть полезен в пункте с корреляцией.",
   "id": "c88bba82ee9b859d"
  },
  {
   "metadata": {
    "ExecuteTime": {
     "end_time": "2024-11-17T21:29:39.841580Z",
     "start_time": "2024-11-17T21:29:39.827379Z"
    }
   },
   "cell_type": "code",
   "source": [
    "new_dtypes = {'participant_id': 'int32',\n",
    "              'current_weight_lbs': 'float32',\n",
    "              'bmr_calories': 'float32',\n",
    "              'daily_caloric_surplus_or_deficit': 'float32',\n",
    "              'duration_weeks': 'int32',\n",
    "              'physical_activity_level': 'int32',\n",
    "              'sleep_quality': 'int32',\n",
    "              'stress_level': 'int32',\n",
    "              'final_weight_lbs': 'float32',\n",
    "              'age': 'int32',\n",
    "              'gender': 'int32'\n",
    "              }\n",
    "full_data = full_data.astype(new_dtypes)\n",
    "full_data.info()"
   ],
   "id": "e5dca48f658e1e7",
   "outputs": [
    {
     "name": "stdout",
     "output_type": "stream",
     "text": [
      "<class 'pandas.core.frame.DataFrame'>\n",
      "RangeIndex: 100 entries, 0 to 99\n",
      "Data columns (total 12 columns):\n",
      " #   Column                            Non-Null Count  Dtype  \n",
      "---  ------                            --------------  -----  \n",
      " 0   participant_id                    100 non-null    int32  \n",
      " 1   current_weight_lbs                100 non-null    float32\n",
      " 2   bmr_calories                      100 non-null    float32\n",
      " 3   daily_calories_consumed           100 non-null    float64\n",
      " 4   daily_caloric_surplus_or_deficit  100 non-null    float32\n",
      " 5   duration_weeks                    100 non-null    int32  \n",
      " 6   physical_activity_level           100 non-null    int32  \n",
      " 7   sleep_quality                     100 non-null    int32  \n",
      " 8   stress_level                      100 non-null    int32  \n",
      " 9   final_weight_lbs                  100 non-null    float32\n",
      " 10  age                               100 non-null    int32  \n",
      " 11  gender                            100 non-null    int32  \n",
      "dtypes: float32(4), float64(1), int32(7)\n",
      "memory usage: 5.2 KB\n"
     ]
    }
   ],
   "execution_count": 24
  },
  {
   "metadata": {},
   "cell_type": "markdown",
   "source": [
    "После нехитрых манипуляций с фреймом удалось снизить затраты памяти на его хранение практически в 2 раза.\n",
    "\n",
    "---\n",
    "Однако есть минусы, если качество сна и физическая активность становятся ранговыми признаками, с которыми всё интуитивно понятно, то в случае пола нужно перед началом работы с фреймом уточнять, что мужчины это 0, а женщины 1."
   ],
   "id": "45a696b4b8014617"
  },
  {
   "metadata": {},
   "cell_type": "markdown",
   "source": "## Анализ распределений полов по возрастам",
   "id": "74200f3650d3d0ad"
  },
  {
   "metadata": {
    "ExecuteTime": {
     "end_time": "2024-11-17T21:29:39.872301Z",
     "start_time": "2024-11-17T21:29:39.866303Z"
    }
   },
   "cell_type": "code",
   "source": "full_data['gender'].value_counts()",
   "id": "674bba2a28a675a5",
   "outputs": [
    {
     "data": {
      "text/plain": [
       "gender\n",
       "0    57\n",
       "1    43\n",
       "Name: count, dtype: int64"
      ]
     },
     "execution_count": 25,
     "metadata": {},
     "output_type": "execute_result"
    }
   ],
   "execution_count": 25
  },
  {
   "metadata": {
    "ExecuteTime": {
     "end_time": "2024-11-17T21:29:39.965969Z",
     "start_time": "2024-11-17T21:29:39.952751Z"
    }
   },
   "cell_type": "code",
   "source": "full_data['age'].value_counts().sort_values(ascending=False).head(10)",
   "id": "eacf715c5282d3d4",
   "outputs": [
    {
     "data": {
      "text/plain": [
       "age\n",
       "41    6\n",
       "25    5\n",
       "56    4\n",
       "42    4\n",
       "32    4\n",
       "38    4\n",
       "31    4\n",
       "24    4\n",
       "19    4\n",
       "46    3\n",
       "Name: count, dtype: int64"
      ]
     },
     "execution_count": 26,
     "metadata": {},
     "output_type": "execute_result"
    }
   ],
   "execution_count": 26
  },
  {
   "metadata": {
    "ExecuteTime": {
     "end_time": "2024-11-17T21:29:40.042914Z",
     "start_time": "2024-11-17T21:29:40.031649Z"
    }
   },
   "cell_type": "code",
   "source": "full_data.loc[full_data.gender == 0].age.describe()",
   "id": "3d35a0ce4b04cff8",
   "outputs": [
    {
     "data": {
      "text/plain": [
       "count    57.000000\n",
       "mean     37.561404\n",
       "std      12.889666\n",
       "min      18.000000\n",
       "25%      25.000000\n",
       "50%      38.000000\n",
       "75%      48.000000\n",
       "max      59.000000\n",
       "Name: age, dtype: float64"
      ]
     },
     "execution_count": 27,
     "metadata": {},
     "output_type": "execute_result"
    }
   ],
   "execution_count": 27
  },
  {
   "metadata": {
    "ExecuteTime": {
     "end_time": "2024-11-17T21:29:40.211674Z",
     "start_time": "2024-11-17T21:29:40.197901Z"
    }
   },
   "cell_type": "code",
   "source": "full_data.loc[full_data.gender == 1].age.describe()",
   "id": "dcdf05e02543a61",
   "outputs": [
    {
     "data": {
      "text/plain": [
       "count    43.000000\n",
       "mean     38.372093\n",
       "std      11.403891\n",
       "min      19.000000\n",
       "25%      29.500000\n",
       "50%      38.000000\n",
       "75%      45.500000\n",
       "max      58.000000\n",
       "Name: age, dtype: float64"
      ]
     },
     "execution_count": 28,
     "metadata": {},
     "output_type": "execute_result"
    }
   ],
   "execution_count": 28
  },
  {
   "metadata": {
    "ExecuteTime": {
     "end_time": "2024-11-17T21:29:40.687726Z",
     "start_time": "2024-11-17T21:29:40.309807Z"
    }
   },
   "cell_type": "code",
   "source": [
    "sns.histplot(data=full_data, x='age', hue='gender', palette=['green', 'red'], bins=40, kde=True)\n",
    "plt.legend(title='Пол', labels=['Женщины', 'Мужчины'])\n",
    "plt.xlabel('Возраст')\n",
    "plt.ylabel('Частота')\n",
    "plt.title('Распределение участников по возрастам')\n",
    "plt.show()"
   ],
   "id": "f3f05ae63a42cdac",
   "outputs": [
    {
     "data": {
      "text/plain": [
       "<Figure size 640x480 with 1 Axes>"
      ],
      "image/png": "[encoded data removed]"
     },
     "metadata": {},
     "output_type": "display_data"
    }
   ],
   "execution_count": 29
  },
  {
   "metadata": {
    "ExecuteTime": {
     "end_time": "2024-11-17T21:29:40.889014Z",
     "start_time": "2024-11-17T21:29:40.736416Z"
    }
   },
   "cell_type": "code",
   "source": [
    "sns.boxplot(data=full_data, x='gender', y='age', hue='gender')\n",
    "plt.legend(title='Пол', labels=['Женщины', 'Мужчины'])\n",
    "plt.show()"
   ],
   "id": "677cd73f4a8b7162",
   "outputs": [
    {
     "data": {
      "text/plain": [
       "<Figure size 640x480 with 1 Axes>"
      ],
      "image/png": "[encoded data removed]"
     },
     "metadata": {},
     "output_type": "display_data"
    }
   ],
   "execution_count": 30
  },
  {
   "metadata": {
    "ExecuteTime": {
     "end_time": "2024-11-17T21:29:41.075838Z",
     "start_time": "2024-11-17T21:29:40.937226Z"
    }
   },
   "cell_type": "code",
   "source": [
    "males_by_age = full_data[full_data['gender'] == 0]['age']\n",
    "stats.probplot(males_by_age, dist=\"norm\", plot=plt)\n",
    "plt.title('Q-Q Plot')\n",
    "plt.xlabel('Теоретические квантили')\n",
    "plt.ylabel('Выборочные квантильные значения')\n",
    "plt.grid()\n",
    "plt.show()"
   ],
   "id": "e7c8f7afcecb5f38",
   "outputs": [
    {
     "data": {
      "text/plain": [
       "<Figure size 640x480 with 1 Axes>"
      ],
      "image/png": "[encoded data removed]"
     },
     "metadata": {},
     "output_type": "display_data"
    }
   ],
   "execution_count": 31
  },
  {
   "metadata": {
    "ExecuteTime": {
     "end_time": "2024-11-17T21:29:41.245645Z",
     "start_time": "2024-11-17T21:29:41.092332Z"
    }
   },
   "cell_type": "code",
   "source": [
    "females_by_age = full_data[full_data['gender'] == 1]['age']\n",
    "stats.probplot(females_by_age, dist=\"norm\", plot=plt)\n",
    "plt.title('Q-Q Plot')\n",
    "plt.xlabel('Теоретические квантили')\n",
    "plt.ylabel('Выборочные квантильные значения')\n",
    "plt.grid()\n",
    "plt.show()"
   ],
   "id": "5e9d7e191db55862",
   "outputs": [
    {
     "data": {
      "text/plain": [
       "<Figure size 640x480 with 1 Axes>"
      ],
      "image/png": "[encoded data removed]"
     },
     "metadata": {},
     "output_type": "display_data"
    }
   ],
   "execution_count": 32
  },
  {
   "metadata": {},
   "cell_type": "markdown",
   "source": [
    "### Промежуточные выводы\n",
    "Итак, из гистограммы распределения частот полов по возрастам видно, что распределение женщин напоминает нормальное, и не имеет слишком много выбросов, в отличие от распределения мужчин, где на краях распределения довольно сильные выбросы. \n",
    "\n",
    "На графиках q-q plot также сильные отклонения выборочных квантилей, от ожидаемых.\n",
    "\n",
    "Однако же, поскольку выборки довольно малы, убедимся в выводах с помощью тестов."
   ],
   "id": "262baf00a90670c7"
  },
  {
   "metadata": {
    "ExecuteTime": {
     "end_time": "2024-11-17T21:29:41.276037Z",
     "start_time": "2024-11-17T21:29:41.261628Z"
    }
   },
   "cell_type": "code",
   "source": [
    "def shapiro_wilk(data, name):\n",
    "    stat, p = stats.shapiro(data)\n",
    "    print(f'{name}:')\n",
    "    print(f'Statistics: {stat}, p-value: {p}')\n",
    "    \n",
    "    alpha = 0.05\n",
    "    if p > alpha:\n",
    "        print(f'Принять гипотезу о нормальности')\n",
    "    else:\n",
    "        print(f'Отклонить гипотезу о нормальности')\n",
    "        \n",
    "\n",
    "def pirson(data, name):\n",
    "    stat, p = stats.normaltest(data) # Критерий согласия Пирсона\n",
    "    print(f'{name}:')\n",
    "    print(f'Statistics: {stat}, p-value: {p}')\n",
    "    \n",
    "    alpha = 0.05\n",
    "    if p > alpha:\n",
    "        print('Принять гипотезу о нормальности')\n",
    "    else:\n",
    "        print('Отклонить гипотезу о нормальности')"
   ],
   "id": "c6d6b8a24e876685",
   "outputs": [],
   "execution_count": 33
  },
  {
   "metadata": {
    "ExecuteTime": {
     "end_time": "2024-11-17T21:29:41.308141Z",
     "start_time": "2024-11-17T21:29:41.294286Z"
    }
   },
   "cell_type": "code",
   "source": [
    "print('Тест Шапиро-Уилка')\n",
    "shapiro_wilk(males_by_age, 'Мужчины')\n",
    "shapiro_wilk(females_by_age, 'Женщины')\n",
    "\n",
    "print('\\nКритерий согласия Пирсона')\n",
    "pirson(males_by_age, 'Мужчины')\n",
    "pirson(females_by_age, 'Женщины')"
   ],
   "id": "89223c58f2278ca7",
   "outputs": [
    {
     "name": "stdout",
     "output_type": "stream",
     "text": [
      "Тест Шапиро-Уилка\n",
      "Мужчины:\n",
      "Statistics: 0.9428084151710435, p-value: 0.009400636439038115\n",
      "Отклонить гипотезу о нормальности\n",
      "Женщины:\n",
      "Statistics: 0.9554886759979104, p-value: 0.09471105001434152\n",
      "Принять гипотезу о нормальности\n",
      "\n",
      "Критерий согласия Пирсона\n",
      "Мужчины:\n",
      "Statistics: 15.957740811257398, p-value: 0.00034262623266850556\n",
      "Отклонить гипотезу о нормальности\n",
      "Женщины:\n",
      "Statistics: 4.627296000587646, p-value: 0.09889980616208911\n",
      "Принять гипотезу о нормальности\n"
     ]
    }
   ],
   "execution_count": 34
  },
  {
   "metadata": {},
   "cell_type": "markdown",
   "source": [
    "### Промежуточные выводы 2: \n",
    "* оба теста показали одинаковый результат - распределение мужчин по возрастам в генеральной совокупности отличается от нормального;\n",
    "* хотя p-value для распределения женщин в обоих тестах позволяет принять гипотезу о нормальности распределения в генеральной совокупности, все же он довольно близок к критическому значению;\n",
    "* описательные статистики обеих выборок довольно близки друг к другу.\n",
    " \n",
    "В связи с тем, что распределение мужчин не может быть принято за нормальное, использовать нужно непараметрические тесты для сравнения выборок."
   ],
   "id": "311eaa52334231cf"
  },
  {
   "metadata": {
    "ExecuteTime": {
     "end_time": "2024-11-17T21:29:41.354839Z",
     "start_time": "2024-11-17T21:29:41.338037Z"
    }
   },
   "cell_type": "code",
   "source": [
    "stat, p = stats.mannwhitneyu(males_by_age, females_by_age)\n",
    "print('Тест Манна-Уитни')\n",
    "print(f'Statistics: {stat}, p-value: {p}')\n",
    "\n",
    "if p > 0.05:\n",
    "    print('Нет значимых различий в выборках')\n",
    "else:\n",
    "    print('Имеются значимые различия в выборках')"
   ],
   "id": "406095d6f3c6440d",
   "outputs": [
    {
     "name": "stdout",
     "output_type": "stream",
     "text": [
      "Тест Манна-Уитни\n",
      "Statistics: 1172.0, p-value: 0.7119766196195048\n",
      "Нет значимых различий в выборках\n"
     ]
    }
   ],
   "execution_count": 35
  },
  {
   "metadata": {
    "ExecuteTime": {
     "end_time": "2024-11-17T21:29:41.399946Z",
     "start_time": "2024-11-17T21:29:41.386607Z"
    }
   },
   "cell_type": "code",
   "source": [
    "stat, p = stats.ks_2samp(males_by_age, females_by_age)\n",
    "print('Тест Колмогорова-Смирнова')\n",
    "print(f'Statistics: {stat}, p-value: {p}')\n",
    "if p > 0.05:\n",
    "    print('Нет значимой разницы между распределениями')\n",
    "else:\n",
    "    print('Есть значимая разница между распределениями')"
   ],
   "id": "e26ab98705849aac",
   "outputs": [
    {
     "name": "stdout",
     "output_type": "stream",
     "text": [
      "Тест Колмогорова-Смирнова\n",
      "Statistics: 0.11219910240718074, p-value: 0.8736662346552767\n",
      "Нет значимой разницы между распределениями\n"
     ]
    }
   ],
   "execution_count": 36
  },
  {
   "metadata": {
    "ExecuteTime": {
     "end_time": "2024-11-17T21:54:15.046534Z",
     "start_time": "2024-11-17T21:54:15.023834Z"
    }
   },
   "cell_type": "code",
   "source": [
    "stat, p_value = stats.levene(males_by_age, females_by_age, center='median')\n",
    "print('Тест Левина')\n",
    "print(f'Statistics: {stat}, p-value: {p}')\n",
    "if p_value > 0.05:\n",
    "    print(\"Нет статистически значимой разницы в дисперсиях.\")\n",
    "else:\n",
    "    print(\"Есть статистически значимая разница в дисперсиях.\")"
   ],
   "id": "e0eb77fcb658baa9",
   "outputs": [
    {
     "name": "stdout",
     "output_type": "stream",
     "text": [
      "Тест Левина\n",
      "Statistics: 1.4471918231193537, p-value: 0.8736662346552767\n",
      "Нет статистически значимой разницы в дисперсиях.\n"
     ]
    }
   ],
   "execution_count": 57
  },
  {
   "metadata": {
    "ExecuteTime": {
     "end_time": "2024-11-17T21:29:42.071911Z",
     "start_time": "2024-11-17T21:29:41.452559Z"
    }
   },
   "cell_type": "code",
   "source": [
    "def std_diff(group1, group2):\n",
    "    return np.std(group1) - np.std(group2)\n",
    "print('Тест перестановками')\n",
    "_res = stats.permutation_test((males_by_age, females_by_age), std_diff, n_resamples=10000)\n",
    "stat = _res.statistic\n",
    "p_value = _res.pvalue\n",
    "print(f'Statistic: {stat}, p-value: {p_value}')\n",
    "if p_value > 0.05:\n",
    "    print(\"Нет статистически значимой разницы в дисперсиях.\")\n",
    "else:\n",
    "    print(\"Есть статистически значимая разница в дисперсиях.\")"
   ],
   "id": "7a7f90628db878ae",
   "outputs": [
    {
     "name": "stdout",
     "output_type": "stream",
     "text": [
      "Тест перестановками\n",
      "Statistic: 1.5055908019650293, p-value: 0.2161783821617838\n",
      "Нет статистически значимой разницы в дисперсиях.\n"
     ]
    }
   ],
   "execution_count": 38
  },
  {
   "metadata": {},
   "cell_type": "markdown",
   "source": "И для полной уверенности проверим тестом Андерсона-Дарлинга, чтобы придать большее значение хвостам распределений, где у мужчин как раз наблюдаются сильные выбросы",
   "id": "2b20115e26ffaf9f"
  },
  {
   "metadata": {
    "ExecuteTime": {
     "end_time": "2024-11-17T21:29:42.766775Z",
     "start_time": "2024-11-17T21:29:42.088186Z"
    }
   },
   "cell_type": "code",
   "source": [
    "result = stats.anderson_ksamp([males_by_age, females_by_age], method=stats.PermutationMethod())\n",
    "print(f'Statistic: {result.statistic}, p-value: {result.pvalue}')"
   ],
   "id": "cde5f3cbd85e60ee",
   "outputs": [
    {
     "name": "stdout",
     "output_type": "stream",
     "text": [
      "Statistic: -0.49790150393959803, p-value: 0.6123\n"
     ]
    }
   ],
   "execution_count": 39
  },
  {
   "metadata": {},
   "cell_type": "markdown",
   "source": [
    "Вновь p-value >> 0.05\n",
    "\n",
    "---\n",
    "\n",
    "### Вывод - значимых различий в распределениях мужчин и женщин по возрастам нет\n",
    "\n",
    "В связи с этим, в дальнейших рассуждениях и работе с данными можно не учитывать различия полов (там где это не предполагается)"
   ],
   "id": "1260751e3edd23d2"
  },
  {
   "metadata": {},
   "cell_type": "markdown",
   "source": "## Анализ зависимости итогового веса от остальных признаков",
   "id": "e11c9cf3f4f9216f"
  },
  {
   "metadata": {
    "ExecuteTime": {
     "end_time": "2024-11-17T21:29:43.575426Z",
     "start_time": "2024-11-17T21:29:42.785413Z"
    }
   },
   "cell_type": "code",
   "source": [
    "numeric_features = full_data.\\\n",
    "                    drop(['participant_id', \n",
    "                          'final_weight_lbs',\n",
    "                          'physical_activity_level',\n",
    "                          'sleep_quality',\n",
    "                          'stress_level',\n",
    "                          'gender'\n",
    "                          ], axis=1).columns\n",
    "target = full_data['final_weight_lbs']\n",
    "plt.figure(figsize=(10, 6))\n",
    "for i, feature in enumerate(numeric_features, 1):\n",
    "    plt.subplot(2, 3, i)\n",
    "    sns.scatterplot(x=full_data[feature], y=target, alpha=0.7, edgecolor='k')\n",
    "\n",
    "plt.tight_layout()\n",
    "plt.show()"
   ],
   "id": "7099cdd5c1f91cbf",
   "outputs": [
    {
     "data": {
      "text/plain": [
       "<Figure size 1000x600 with 6 Axes>"
      ],
      "image/png": "[encoded data removed]"
     },
     "metadata": {},
     "output_type": "display_data"
    }
   ],
   "execution_count": 40
  },
  {
   "metadata": {},
   "cell_type": "markdown",
   "source": "На графиках представлены зависимости итогового веса от других количественных признаков. Прямая положительная зависимость итогового веса от изначального более чем очевидна, поэтому нет смысла считать корреляцию между двумя этими признаками. Судя по всему, имеет место довольно сильная положительная зависимость итогового веса от BMR. Также стоит посмотреть на степень коррелированности с остальными представленными признаками, кроме возраста, т.к. с ним никакой связи не прослеживается.\n",
   "id": "c9c75baca0a2fdbc"
  },
  {
   "metadata": {
    "ExecuteTime": {
     "end_time": "2024-11-17T21:40:29.148045Z",
     "start_time": "2024-11-17T21:40:29.127407Z"
    }
   },
   "cell_type": "code",
   "source": [
    "full_data.\\\n",
    "    drop(['participant_id', \n",
    "          'physical_activity_level',\n",
    "          'sleep_quality',\n",
    "          'stress_level',\n",
    "          'gender',\n",
    "          'current_weight_lbs',\n",
    "          'age'\n",
    "          ], axis=1).\\\n",
    "    corr()[['final_weight_lbs']]"
   ],
   "id": "5fa17afc09729e2b",
   "outputs": [
    {
     "data": {
      "text/plain": [
       "                                  final_weight_lbs\n",
       "bmr_calories                              0.895571\n",
       "daily_calories_consumed                   0.591838\n",
       "daily_caloric_surplus_or_deficit         -0.060773\n",
       "duration_weeks                           -0.053311\n",
       "final_weight_lbs                          1.000000"
      ],
      "text/html": [
       "<div>\n",
       "<style scoped>\n",
       "    .dataframe tbody tr th:only-of-type {\n",
       "        vertical-align: middle;\n",
       "    }\n",
       "\n",
       "    .dataframe tbody tr th {\n",
       "        vertical-align: top;\n",
       "    }\n",
       "\n",
       "    .dataframe thead th {\n",
       "        text-align: right;\n",
       "    }\n",
       "</style>\n",
       "<table border=\"1\" class=\"dataframe\">\n",
       "  <thead>\n",
       "    <tr style=\"text-align: right;\">\n",
       "      <th></th>\n",
       "      <th>final_weight_lbs</th>\n",
       "    </tr>\n",
       "  </thead>\n",
       "  <tbody>\n",
       "    <tr>\n",
       "      <th>bmr_calories</th>\n",
       "      <td>0.895571</td>\n",
       "    </tr>\n",
       "    <tr>\n",
       "      <th>daily_calories_consumed</th>\n",
       "      <td>0.591838</td>\n",
       "    </tr>\n",
       "    <tr>\n",
       "      <th>daily_caloric_surplus_or_deficit</th>\n",
       "      <td>-0.060773</td>\n",
       "    </tr>\n",
       "    <tr>\n",
       "      <th>duration_weeks</th>\n",
       "      <td>-0.053311</td>\n",
       "    </tr>\n",
       "    <tr>\n",
       "      <th>final_weight_lbs</th>\n",
       "      <td>1.000000</td>\n",
       "    </tr>\n",
       "  </tbody>\n",
       "</table>\n",
       "</div>"
      ]
     },
     "execution_count": 44,
     "metadata": {},
     "output_type": "execute_result"
    }
   ],
   "execution_count": 44
  },
  {
   "metadata": {},
   "cell_type": "markdown",
   "source": "Также посмотрим на матрицу корреляции всех признаков.",
   "id": "4653b3f119fa541f"
  },
  {
   "metadata": {
    "ExecuteTime": {
     "end_time": "2024-11-17T21:51:14.898097Z",
     "start_time": "2024-11-17T21:51:14.640590Z"
    }
   },
   "cell_type": "code",
   "source": [
    "corr_matrix = experiments.drop(['participant_id',\n",
    "                                'physical_activity_level',\n",
    "                                'sleep_quality',\n",
    "                                'stress_level',\n",
    "                                'current_weight_lbs'], axis=1).corr(method='spearman')\n",
    "plt.figure(figsize=(6, 4))\n",
    "sns.heatmap(corr_matrix, annot=True)\n",
    "plt.show()"
   ],
   "id": "68efbc620ebdf6e7",
   "outputs": [
    {
     "data": {
      "text/plain": [
       "<Figure size 600x400 with 2 Axes>"
      ],
      "image/png": "[encoded data removed]"
     },
     "metadata": {},
     "output_type": "display_data"
    }
   ],
   "execution_count": 56
  },
  {
   "metadata": {
    "ExecuteTime": {
     "end_time": "2024-11-17T22:02:42.105216Z",
     "start_time": "2024-11-17T22:02:42.100932Z"
    }
   },
   "cell_type": "code",
   "source": [
    "def anova(df, category):\n",
    "    groups = [df.loc[df[category] == x, 'Value'] for x in df[category].unique()]\n",
    "    h_stat, p_value = stats.kruskal(*groups)\n",
    "    print(f\"H-Statistic: {h_stat}, p-value: {p_value}\")"
   ],
   "id": "9bd0ee5fed878445",
   "outputs": [],
   "execution_count": 58
  },
  {
   "metadata": {},
   "cell_type": "code",
   "outputs": [],
   "execution_count": null,
   "source": "",
   "id": "e15446d8868e853e"
  }
 ],
 "metadata": {
  "kernelspec": {
   "display_name": "Python 3 (ipykernel)",
   "language": "python",
   "name": "python3"
  },
  "language_info": {
   "codemirror_mode": {
    "name": "ipython",
    "version": 2
   },
   "file_extension": ".py",
   "mimetype": "text/x-python",
   "name": "python",
   "nbconvert_exporter": "python",
   "pygments_lexer": "ipython2",
   "version": "2.7.6"
  }
 },
 "nbformat": 4,
 "nbformat_minor": 5
}
