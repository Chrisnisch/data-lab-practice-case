{
 "cells": [
  {
   "metadata": {},
   "cell_type": "markdown",
   "source": [
    "# Тест-кейс\n",
    "1. Перед вами результаты участников эксперимента по мониторингу веса.\n",
    "2. Посмотрите в каждом датасете первые 5 строк и последние 5 строк.\n",
    "3. Посмотрите информацию о каждом датасете.\n",
    "4. Проверьте датасеты на наличие дублей. Если дубли есть, то удалите их.\n",
    "5. Переименуйте колонки в датасетах, чтобы они не содержали только строчные латинские буквы и символ \"_\".\n",
    "6. Объедините датасеты по номеру участников\n",
    "7. Посмотрите распределение по  полу и возрасту участников, постройте график распределений. Сделайте выводы об имеющейся выборке и напишите их в текстовом поле.\n",
    "8. Посчитайте корреляцию между финальным весом и остальными параметрами датасета. Сделайте матрицу корреляции в виде графика. Ответьте на вопрос: какие факторы наиболее значимые для итогового веса?\n",
    "9. Можете провести еще дополнительный анализ данных и сделать дополнительные выводы. Творческий подход приветствуется."
   ],
   "id": "3bc5bd5ba37b92a5"
  },
  {
   "cell_type": "code",
   "id": "initial_id",
   "metadata": {
    "collapsed": true,
    "ExecuteTime": {
     "end_time": "2024-11-16T13:02:14.748123Z",
     "start_time": "2024-11-16T13:02:14.738103Z"
    }
   },
   "source": [
    "import pandas as pd\n",
    "\n",
    "import seaborn as sns\n",
    "import matplotlib.pyplot as plt\n",
    "\n",
    "%matplotlib inline"
   ],
   "outputs": [],
   "execution_count": 153
  },
  {
   "metadata": {
    "ExecuteTime": {
     "end_time": "2024-11-16T13:02:14.781172Z",
     "start_time": "2024-11-16T13:02:14.754480Z"
    }
   },
   "cell_type": "code",
   "source": [
    "experiments = pd.read_csv('experiments.csv')\n",
    "participants = pd.read_csv('participants.csv', sep=';')"
   ],
   "id": "28264a0b128f0a44",
   "outputs": [],
   "execution_count": 154
  },
  {
   "metadata": {
    "ExecuteTime": {
     "end_time": "2024-11-16T13:02:14.798011Z",
     "start_time": "2024-11-16T13:02:14.781172Z"
    }
   },
   "cell_type": "code",
   "source": "experiments.head()",
   "id": "942ac8ddf329c287",
   "outputs": [
    {
     "data": {
      "text/plain": [
       "   Participant ID  Current Weight (lbs)  BMR (Calories)  \\\n",
       "0               1                 228.4          3102.3   \n",
       "1               2                 165.4          2275.5   \n",
       "2               3                 142.8          2119.4   \n",
       "3               4                 145.5          2181.3   \n",
       "4               5                 155.5          2463.8   \n",
       "\n",
       "   Daily Calories Consumed  Daily Caloric Surplus/Deficit  \\\n",
       "0                   3916.0                          813.7   \n",
       "1                   3823.0                         1547.5   \n",
       "2                   2785.4                          666.0   \n",
       "3                   2587.3                          406.0   \n",
       "4                   3312.8                          849.0   \n",
       "\n",
       "   Weight Change (lbs)  Duration (weeks) Physical Activity Level  \\\n",
       "0                  0.2                 1               Sedentary   \n",
       "1                  2.4                 6             Very Active   \n",
       "2                  1.4                 7               Sedentary   \n",
       "3                  0.8                 8               Sedentary   \n",
       "4                  2.0                10          Lightly Active   \n",
       "\n",
       "  Sleep Quality  Stress Level  Final Weight (lbs)  \n",
       "0     Excellent             6               228.6  \n",
       "1     Excellent             6               167.8  \n",
       "2          Good             3               144.2  \n",
       "3          Fair             2               146.3  \n",
       "4          Good             1               157.5  "
      ],
      "text/html": [
       "<div>\n",
       "<style scoped>\n",
       "    .dataframe tbody tr th:only-of-type {\n",
       "        vertical-align: middle;\n",
       "    }\n",
       "\n",
       "    .dataframe tbody tr th {\n",
       "        vertical-align: top;\n",
       "    }\n",
       "\n",
       "    .dataframe thead th {\n",
       "        text-align: right;\n",
       "    }\n",
       "</style>\n",
       "<table border=\"1\" class=\"dataframe\">\n",
       "  <thead>\n",
       "    <tr style=\"text-align: right;\">\n",
       "      <th></th>\n",
       "      <th>Participant ID</th>\n",
       "      <th>Current Weight (lbs)</th>\n",
       "      <th>BMR (Calories)</th>\n",
       "      <th>Daily Calories Consumed</th>\n",
       "      <th>Daily Caloric Surplus/Deficit</th>\n",
       "      <th>Weight Change (lbs)</th>\n",
       "      <th>Duration (weeks)</th>\n",
       "      <th>Physical Activity Level</th>\n",
       "      <th>Sleep Quality</th>\n",
       "      <th>Stress Level</th>\n",
       "      <th>Final Weight (lbs)</th>\n",
       "    </tr>\n",
       "  </thead>\n",
       "  <tbody>\n",
       "    <tr>\n",
       "      <th>0</th>\n",
       "      <td>1</td>\n",
       "      <td>228.4</td>\n",
       "      <td>3102.3</td>\n",
       "      <td>3916.0</td>\n",
       "      <td>813.7</td>\n",
       "      <td>0.2</td>\n",
       "      <td>1</td>\n",
       "      <td>Sedentary</td>\n",
       "      <td>Excellent</td>\n",
       "      <td>6</td>\n",
       "      <td>228.6</td>\n",
       "    </tr>\n",
       "    <tr>\n",
       "      <th>1</th>\n",
       "      <td>2</td>\n",
       "      <td>165.4</td>\n",
       "      <td>2275.5</td>\n",
       "      <td>3823.0</td>\n",
       "      <td>1547.5</td>\n",
       "      <td>2.4</td>\n",
       "      <td>6</td>\n",
       "      <td>Very Active</td>\n",
       "      <td>Excellent</td>\n",
       "      <td>6</td>\n",
       "      <td>167.8</td>\n",
       "    </tr>\n",
       "    <tr>\n",
       "      <th>2</th>\n",
       "      <td>3</td>\n",
       "      <td>142.8</td>\n",
       "      <td>2119.4</td>\n",
       "      <td>2785.4</td>\n",
       "      <td>666.0</td>\n",
       "      <td>1.4</td>\n",
       "      <td>7</td>\n",
       "      <td>Sedentary</td>\n",
       "      <td>Good</td>\n",
       "      <td>3</td>\n",
       "      <td>144.2</td>\n",
       "    </tr>\n",
       "    <tr>\n",
       "      <th>3</th>\n",
       "      <td>4</td>\n",
       "      <td>145.5</td>\n",
       "      <td>2181.3</td>\n",
       "      <td>2587.3</td>\n",
       "      <td>406.0</td>\n",
       "      <td>0.8</td>\n",
       "      <td>8</td>\n",
       "      <td>Sedentary</td>\n",
       "      <td>Fair</td>\n",
       "      <td>2</td>\n",
       "      <td>146.3</td>\n",
       "    </tr>\n",
       "    <tr>\n",
       "      <th>4</th>\n",
       "      <td>5</td>\n",
       "      <td>155.5</td>\n",
       "      <td>2463.8</td>\n",
       "      <td>3312.8</td>\n",
       "      <td>849.0</td>\n",
       "      <td>2.0</td>\n",
       "      <td>10</td>\n",
       "      <td>Lightly Active</td>\n",
       "      <td>Good</td>\n",
       "      <td>1</td>\n",
       "      <td>157.5</td>\n",
       "    </tr>\n",
       "  </tbody>\n",
       "</table>\n",
       "</div>"
      ]
     },
     "execution_count": 155,
     "metadata": {},
     "output_type": "execute_result"
    }
   ],
   "execution_count": 155
  },
  {
   "metadata": {
    "ExecuteTime": {
     "end_time": "2024-11-16T13:02:14.831211Z",
     "start_time": "2024-11-16T13:02:14.814579Z"
    }
   },
   "cell_type": "code",
   "source": "experiments.tail()",
   "id": "a4df8f0fe370bc78",
   "outputs": [
    {
     "data": {
      "text/plain": [
       "    Participant ID  Current Weight (lbs)  BMR (Calories)  \\\n",
       "95              96                 181.9          2622.8   \n",
       "96              97                 116.5          1736.5   \n",
       "97              98                 162.7          2188.6   \n",
       "98              99                 179.8          2671.9   \n",
       "99             100                 185.2          2830.7   \n",
       "\n",
       "    Daily Calories Consumed  Daily Caloric Surplus/Deficit  \\\n",
       "95                   3656.2                         1033.4   \n",
       "96                   2756.5                         1020.0   \n",
       "97                   3344.3                         1155.8   \n",
       "98                   4000.0                         1328.1   \n",
       "99                   4000.0                         1169.3   \n",
       "\n",
       "    Weight Change (lbs)  Duration (weeks) Physical Activity Level  \\\n",
       "95              0.60000                 2          Lightly Active   \n",
       "96             -8.92309                12       Moderately Active   \n",
       "97              3.60000                12          Lightly Active   \n",
       "98              2.00000                 5       Moderately Active   \n",
       "99              2.70000                 9             Very Active   \n",
       "\n",
       "   Sleep Quality  Stress Level  Final Weight (lbs)  \n",
       "95     Excellent             3               182.5  \n",
       "96          Good             9               107.6  \n",
       "97          Fair             7               166.3  \n",
       "98          Fair             5               181.8  \n",
       "99          Fair             7               187.9  "
      ],
      "text/html": [
       "<div>\n",
       "<style scoped>\n",
       "    .dataframe tbody tr th:only-of-type {\n",
       "        vertical-align: middle;\n",
       "    }\n",
       "\n",
       "    .dataframe tbody tr th {\n",
       "        vertical-align: top;\n",
       "    }\n",
       "\n",
       "    .dataframe thead th {\n",
       "        text-align: right;\n",
       "    }\n",
       "</style>\n",
       "<table border=\"1\" class=\"dataframe\">\n",
       "  <thead>\n",
       "    <tr style=\"text-align: right;\">\n",
       "      <th></th>\n",
       "      <th>Participant ID</th>\n",
       "      <th>Current Weight (lbs)</th>\n",
       "      <th>BMR (Calories)</th>\n",
       "      <th>Daily Calories Consumed</th>\n",
       "      <th>Daily Caloric Surplus/Deficit</th>\n",
       "      <th>Weight Change (lbs)</th>\n",
       "      <th>Duration (weeks)</th>\n",
       "      <th>Physical Activity Level</th>\n",
       "      <th>Sleep Quality</th>\n",
       "      <th>Stress Level</th>\n",
       "      <th>Final Weight (lbs)</th>\n",
       "    </tr>\n",
       "  </thead>\n",
       "  <tbody>\n",
       "    <tr>\n",
       "      <th>95</th>\n",
       "      <td>96</td>\n",
       "      <td>181.9</td>\n",
       "      <td>2622.8</td>\n",
       "      <td>3656.2</td>\n",
       "      <td>1033.4</td>\n",
       "      <td>0.60000</td>\n",
       "      <td>2</td>\n",
       "      <td>Lightly Active</td>\n",
       "      <td>Excellent</td>\n",
       "      <td>3</td>\n",
       "      <td>182.5</td>\n",
       "    </tr>\n",
       "    <tr>\n",
       "      <th>96</th>\n",
       "      <td>97</td>\n",
       "      <td>116.5</td>\n",
       "      <td>1736.5</td>\n",
       "      <td>2756.5</td>\n",
       "      <td>1020.0</td>\n",
       "      <td>-8.92309</td>\n",
       "      <td>12</td>\n",
       "      <td>Moderately Active</td>\n",
       "      <td>Good</td>\n",
       "      <td>9</td>\n",
       "      <td>107.6</td>\n",
       "    </tr>\n",
       "    <tr>\n",
       "      <th>97</th>\n",
       "      <td>98</td>\n",
       "      <td>162.7</td>\n",
       "      <td>2188.6</td>\n",
       "      <td>3344.3</td>\n",
       "      <td>1155.8</td>\n",
       "      <td>3.60000</td>\n",
       "      <td>12</td>\n",
       "      <td>Lightly Active</td>\n",
       "      <td>Fair</td>\n",
       "      <td>7</td>\n",
       "      <td>166.3</td>\n",
       "    </tr>\n",
       "    <tr>\n",
       "      <th>98</th>\n",
       "      <td>99</td>\n",
       "      <td>179.8</td>\n",
       "      <td>2671.9</td>\n",
       "      <td>4000.0</td>\n",
       "      <td>1328.1</td>\n",
       "      <td>2.00000</td>\n",
       "      <td>5</td>\n",
       "      <td>Moderately Active</td>\n",
       "      <td>Fair</td>\n",
       "      <td>5</td>\n",
       "      <td>181.8</td>\n",
       "    </tr>\n",
       "    <tr>\n",
       "      <th>99</th>\n",
       "      <td>100</td>\n",
       "      <td>185.2</td>\n",
       "      <td>2830.7</td>\n",
       "      <td>4000.0</td>\n",
       "      <td>1169.3</td>\n",
       "      <td>2.70000</td>\n",
       "      <td>9</td>\n",
       "      <td>Very Active</td>\n",
       "      <td>Fair</td>\n",
       "      <td>7</td>\n",
       "      <td>187.9</td>\n",
       "    </tr>\n",
       "  </tbody>\n",
       "</table>\n",
       "</div>"
      ]
     },
     "execution_count": 156,
     "metadata": {},
     "output_type": "execute_result"
    }
   ],
   "execution_count": 156
  },
  {
   "metadata": {
    "ExecuteTime": {
     "end_time": "2024-11-16T13:02:14.847984Z",
     "start_time": "2024-11-16T13:02:14.831211Z"
    }
   },
   "cell_type": "code",
   "source": "participants.head()",
   "id": "5d44bdd81f19fd60",
   "outputs": [
    {
     "data": {
      "text/plain": [
       "   Participant ID  Age Gender\n",
       "0               1   56      M\n",
       "1               2   46      F\n",
       "2               3   32      F\n",
       "3               4   25      F\n",
       "4               5   38      M"
      ],
      "text/html": [
       "<div>\n",
       "<style scoped>\n",
       "    .dataframe tbody tr th:only-of-type {\n",
       "        vertical-align: middle;\n",
       "    }\n",
       "\n",
       "    .dataframe tbody tr th {\n",
       "        vertical-align: top;\n",
       "    }\n",
       "\n",
       "    .dataframe thead th {\n",
       "        text-align: right;\n",
       "    }\n",
       "</style>\n",
       "<table border=\"1\" class=\"dataframe\">\n",
       "  <thead>\n",
       "    <tr style=\"text-align: right;\">\n",
       "      <th></th>\n",
       "      <th>Participant ID</th>\n",
       "      <th>Age</th>\n",
       "      <th>Gender</th>\n",
       "    </tr>\n",
       "  </thead>\n",
       "  <tbody>\n",
       "    <tr>\n",
       "      <th>0</th>\n",
       "      <td>1</td>\n",
       "      <td>56</td>\n",
       "      <td>M</td>\n",
       "    </tr>\n",
       "    <tr>\n",
       "      <th>1</th>\n",
       "      <td>2</td>\n",
       "      <td>46</td>\n",
       "      <td>F</td>\n",
       "    </tr>\n",
       "    <tr>\n",
       "      <th>2</th>\n",
       "      <td>3</td>\n",
       "      <td>32</td>\n",
       "      <td>F</td>\n",
       "    </tr>\n",
       "    <tr>\n",
       "      <th>3</th>\n",
       "      <td>4</td>\n",
       "      <td>25</td>\n",
       "      <td>F</td>\n",
       "    </tr>\n",
       "    <tr>\n",
       "      <th>4</th>\n",
       "      <td>5</td>\n",
       "      <td>38</td>\n",
       "      <td>M</td>\n",
       "    </tr>\n",
       "  </tbody>\n",
       "</table>\n",
       "</div>"
      ]
     },
     "execution_count": 157,
     "metadata": {},
     "output_type": "execute_result"
    }
   ],
   "execution_count": 157
  },
  {
   "metadata": {
    "ExecuteTime": {
     "end_time": "2024-11-16T13:02:14.881339Z",
     "start_time": "2024-11-16T13:02:14.864496Z"
    }
   },
   "cell_type": "code",
   "source": "participants.tail()",
   "id": "d9286dc3693560fb",
   "outputs": [
    {
     "data": {
      "text/plain": [
       "    Participant ID  Age Gender\n",
       "95              96   59      M\n",
       "96              97   56      F\n",
       "97              98   58      F\n",
       "98              99   45      M\n",
       "99             100   24      M"
      ],
      "text/html": [
       "<div>\n",
       "<style scoped>\n",
       "    .dataframe tbody tr th:only-of-type {\n",
       "        vertical-align: middle;\n",
       "    }\n",
       "\n",
       "    .dataframe tbody tr th {\n",
       "        vertical-align: top;\n",
       "    }\n",
       "\n",
       "    .dataframe thead th {\n",
       "        text-align: right;\n",
       "    }\n",
       "</style>\n",
       "<table border=\"1\" class=\"dataframe\">\n",
       "  <thead>\n",
       "    <tr style=\"text-align: right;\">\n",
       "      <th></th>\n",
       "      <th>Participant ID</th>\n",
       "      <th>Age</th>\n",
       "      <th>Gender</th>\n",
       "    </tr>\n",
       "  </thead>\n",
       "  <tbody>\n",
       "    <tr>\n",
       "      <th>95</th>\n",
       "      <td>96</td>\n",
       "      <td>59</td>\n",
       "      <td>M</td>\n",
       "    </tr>\n",
       "    <tr>\n",
       "      <th>96</th>\n",
       "      <td>97</td>\n",
       "      <td>56</td>\n",
       "      <td>F</td>\n",
       "    </tr>\n",
       "    <tr>\n",
       "      <th>97</th>\n",
       "      <td>98</td>\n",
       "      <td>58</td>\n",
       "      <td>F</td>\n",
       "    </tr>\n",
       "    <tr>\n",
       "      <th>98</th>\n",
       "      <td>99</td>\n",
       "      <td>45</td>\n",
       "      <td>M</td>\n",
       "    </tr>\n",
       "    <tr>\n",
       "      <th>99</th>\n",
       "      <td>100</td>\n",
       "      <td>24</td>\n",
       "      <td>M</td>\n",
       "    </tr>\n",
       "  </tbody>\n",
       "</table>\n",
       "</div>"
      ]
     },
     "execution_count": 158,
     "metadata": {},
     "output_type": "execute_result"
    }
   ],
   "execution_count": 158
  },
  {
   "metadata": {
    "ExecuteTime": {
     "end_time": "2024-11-16T13:02:14.931647Z",
     "start_time": "2024-11-16T13:02:14.904756Z"
    }
   },
   "cell_type": "code",
   "source": "experiments.info()",
   "id": "f0b557f4c9b95284",
   "outputs": [
    {
     "name": "stdout",
     "output_type": "stream",
     "text": [
      "<class 'pandas.core.frame.DataFrame'>\n",
      "RangeIndex: 100 entries, 0 to 99\n",
      "Data columns (total 11 columns):\n",
      " #   Column                         Non-Null Count  Dtype  \n",
      "---  ------                         --------------  -----  \n",
      " 0   Participant ID                 100 non-null    int64  \n",
      " 1   Current Weight (lbs)           100 non-null    float64\n",
      " 2   BMR (Calories)                 100 non-null    float64\n",
      " 3   Daily Calories Consumed        100 non-null    float64\n",
      " 4   Daily Caloric Surplus/Deficit  100 non-null    float64\n",
      " 5   Weight Change (lbs)            100 non-null    float64\n",
      " 6   Duration (weeks)               100 non-null    int64  \n",
      " 7   Physical Activity Level        100 non-null    object \n",
      " 8   Sleep Quality                  100 non-null    object \n",
      " 9   Stress Level                   100 non-null    int64  \n",
      " 10  Final Weight (lbs)             100 non-null    float64\n",
      "dtypes: float64(6), int64(3), object(2)\n",
      "memory usage: 8.7+ KB\n"
     ]
    }
   ],
   "execution_count": 159
  },
  {
   "metadata": {
    "ExecuteTime": {
     "end_time": "2024-11-16T13:02:15.031355Z",
     "start_time": "2024-11-16T13:02:15.021354Z"
    }
   },
   "cell_type": "code",
   "source": "participants.info()",
   "id": "5b728057822870fc",
   "outputs": [
    {
     "name": "stdout",
     "output_type": "stream",
     "text": [
      "<class 'pandas.core.frame.DataFrame'>\n",
      "RangeIndex: 100 entries, 0 to 99\n",
      "Data columns (total 3 columns):\n",
      " #   Column          Non-Null Count  Dtype \n",
      "---  ------          --------------  ----- \n",
      " 0   Participant ID  100 non-null    int64 \n",
      " 1   Age             100 non-null    int64 \n",
      " 2   Gender          100 non-null    object\n",
      "dtypes: int64(2), object(1)\n",
      "memory usage: 2.5+ KB\n"
     ]
    }
   ],
   "execution_count": 160
  },
  {
   "metadata": {
    "ExecuteTime": {
     "end_time": "2024-11-16T13:02:15.081531Z",
     "start_time": "2024-11-16T13:02:15.054536Z"
    }
   },
   "cell_type": "code",
   "source": [
    "experiments = experiments.rename(str.lower, axis='columns')\n",
    "experiments.columns = experiments.columns.str.replace('\\s', '_', regex=True).str.replace('[^_\\w]', '', regex=True)\n",
    "experiments = experiments.rename(columns={'daily_caloric_surplusdeficit': 'daily_caloric_surplus_or_deficit'})\n",
    "participants = participants.rename(str.lower, axis='columns')\n",
    "participants.columns = participants.columns.str.replace('\\s', '_', regex=True)"
   ],
   "id": "cb363b149f891432",
   "outputs": [],
   "execution_count": 161
  },
  {
   "metadata": {
    "ExecuteTime": {
     "end_time": "2024-11-16T13:02:15.181324Z",
     "start_time": "2024-11-16T13:02:15.154447Z"
    }
   },
   "cell_type": "code",
   "source": "experiments.columns",
   "id": "f2208d3a3aafe567",
   "outputs": [
    {
     "data": {
      "text/plain": [
       "Index(['participant_id', 'current_weight_lbs', 'bmr_calories',\n",
       "       'daily_calories_consumed', 'daily_caloric_surplus_or_deficit',\n",
       "       'weight_change_lbs', 'duration_weeks', 'physical_activity_level',\n",
       "       'sleep_quality', 'stress_level', 'final_weight_lbs'],\n",
       "      dtype='object')"
      ]
     },
     "execution_count": 162,
     "metadata": {},
     "output_type": "execute_result"
    }
   ],
   "execution_count": 162
  },
  {
   "metadata": {
    "ExecuteTime": {
     "end_time": "2024-11-16T13:02:15.197854Z",
     "start_time": "2024-11-16T13:02:15.181324Z"
    }
   },
   "cell_type": "code",
   "source": "participants.columns",
   "id": "fd9ee75e1d881303",
   "outputs": [
    {
     "data": {
      "text/plain": [
       "Index(['participant_id', 'age', 'gender'], dtype='object')"
      ]
     },
     "execution_count": 163,
     "metadata": {},
     "output_type": "execute_result"
    }
   ],
   "execution_count": 163
  },
  {
   "metadata": {
    "ExecuteTime": {
     "end_time": "2024-11-16T13:02:15.204770Z",
     "start_time": "2024-11-16T13:02:15.197854Z"
    }
   },
   "cell_type": "code",
   "source": [
    "experiments = experiments.drop_duplicates()\n",
    "participants = participants.drop_duplicates()"
   ],
   "id": "e1fb9136487a60c",
   "outputs": [],
   "execution_count": 164
  },
  {
   "metadata": {
    "ExecuteTime": {
     "end_time": "2024-11-16T13:02:15.231373Z",
     "start_time": "2024-11-16T13:02:15.214772Z"
    }
   },
   "cell_type": "code",
   "source": [
    "print(experiments.nunique(), '\\n')\n",
    "print(participants.nunique())"
   ],
   "id": "333eec93fb8c6f9c",
   "outputs": [
    {
     "name": "stdout",
     "output_type": "stream",
     "text": [
      "participant_id                      100\n",
      "current_weight_lbs                   94\n",
      "bmr_calories                        100\n",
      "daily_calories_consumed              67\n",
      "daily_caloric_surplus_or_deficit    100\n",
      "weight_change_lbs                    71\n",
      "duration_weeks                       12\n",
      "physical_activity_level               4\n",
      "sleep_quality                         4\n",
      "stress_level                          9\n",
      "final_weight_lbs                     97\n",
      "dtype: int64 \n",
      "\n",
      "participant_id    100\n",
      "age                40\n",
      "gender              2\n",
      "dtype: int64\n"
     ]
    }
   ],
   "execution_count": 165
  },
  {
   "metadata": {
    "ExecuteTime": {
     "end_time": "2024-11-16T13:02:15.247938Z",
     "start_time": "2024-11-16T13:02:15.237914Z"
    }
   },
   "cell_type": "code",
   "source": "full_data = experiments.merge(participants, on='participant_id')",
   "id": "698e4c23421cb48c",
   "outputs": [],
   "execution_count": 166
  },
  {
   "metadata": {
    "ExecuteTime": {
     "end_time": "2024-11-16T13:02:15.264538Z",
     "start_time": "2024-11-16T13:02:15.247938Z"
    }
   },
   "cell_type": "code",
   "source": "full_data.head()",
   "id": "c77b7755196ff6ff",
   "outputs": [
    {
     "data": {
      "text/plain": [
       "   participant_id  current_weight_lbs  bmr_calories  daily_calories_consumed  \\\n",
       "0               1               228.4        3102.3                   3916.0   \n",
       "1               2               165.4        2275.5                   3823.0   \n",
       "2               3               142.8        2119.4                   2785.4   \n",
       "3               4               145.5        2181.3                   2587.3   \n",
       "4               5               155.5        2463.8                   3312.8   \n",
       "\n",
       "   daily_caloric_surplus_or_deficit  weight_change_lbs  duration_weeks  \\\n",
       "0                             813.7                0.2               1   \n",
       "1                            1547.5                2.4               6   \n",
       "2                             666.0                1.4               7   \n",
       "3                             406.0                0.8               8   \n",
       "4                             849.0                2.0              10   \n",
       "\n",
       "  physical_activity_level sleep_quality  stress_level  final_weight_lbs  age  \\\n",
       "0               Sedentary     Excellent             6             228.6   56   \n",
       "1             Very Active     Excellent             6             167.8   46   \n",
       "2               Sedentary          Good             3             144.2   32   \n",
       "3               Sedentary          Fair             2             146.3   25   \n",
       "4          Lightly Active          Good             1             157.5   38   \n",
       "\n",
       "  gender  \n",
       "0      M  \n",
       "1      F  \n",
       "2      F  \n",
       "3      F  \n",
       "4      M  "
      ],
      "text/html": [
       "<div>\n",
       "<style scoped>\n",
       "    .dataframe tbody tr th:only-of-type {\n",
       "        vertical-align: middle;\n",
       "    }\n",
       "\n",
       "    .dataframe tbody tr th {\n",
       "        vertical-align: top;\n",
       "    }\n",
       "\n",
       "    .dataframe thead th {\n",
       "        text-align: right;\n",
       "    }\n",
       "</style>\n",
       "<table border=\"1\" class=\"dataframe\">\n",
       "  <thead>\n",
       "    <tr style=\"text-align: right;\">\n",
       "      <th></th>\n",
       "      <th>participant_id</th>\n",
       "      <th>current_weight_lbs</th>\n",
       "      <th>bmr_calories</th>\n",
       "      <th>daily_calories_consumed</th>\n",
       "      <th>daily_caloric_surplus_or_deficit</th>\n",
       "      <th>weight_change_lbs</th>\n",
       "      <th>duration_weeks</th>\n",
       "      <th>physical_activity_level</th>\n",
       "      <th>sleep_quality</th>\n",
       "      <th>stress_level</th>\n",
       "      <th>final_weight_lbs</th>\n",
       "      <th>age</th>\n",
       "      <th>gender</th>\n",
       "    </tr>\n",
       "  </thead>\n",
       "  <tbody>\n",
       "    <tr>\n",
       "      <th>0</th>\n",
       "      <td>1</td>\n",
       "      <td>228.4</td>\n",
       "      <td>3102.3</td>\n",
       "      <td>3916.0</td>\n",
       "      <td>813.7</td>\n",
       "      <td>0.2</td>\n",
       "      <td>1</td>\n",
       "      <td>Sedentary</td>\n",
       "      <td>Excellent</td>\n",
       "      <td>6</td>\n",
       "      <td>228.6</td>\n",
       "      <td>56</td>\n",
       "      <td>M</td>\n",
       "    </tr>\n",
       "    <tr>\n",
       "      <th>1</th>\n",
       "      <td>2</td>\n",
       "      <td>165.4</td>\n",
       "      <td>2275.5</td>\n",
       "      <td>3823.0</td>\n",
       "      <td>1547.5</td>\n",
       "      <td>2.4</td>\n",
       "      <td>6</td>\n",
       "      <td>Very Active</td>\n",
       "      <td>Excellent</td>\n",
       "      <td>6</td>\n",
       "      <td>167.8</td>\n",
       "      <td>46</td>\n",
       "      <td>F</td>\n",
       "    </tr>\n",
       "    <tr>\n",
       "      <th>2</th>\n",
       "      <td>3</td>\n",
       "      <td>142.8</td>\n",
       "      <td>2119.4</td>\n",
       "      <td>2785.4</td>\n",
       "      <td>666.0</td>\n",
       "      <td>1.4</td>\n",
       "      <td>7</td>\n",
       "      <td>Sedentary</td>\n",
       "      <td>Good</td>\n",
       "      <td>3</td>\n",
       "      <td>144.2</td>\n",
       "      <td>32</td>\n",
       "      <td>F</td>\n",
       "    </tr>\n",
       "    <tr>\n",
       "      <th>3</th>\n",
       "      <td>4</td>\n",
       "      <td>145.5</td>\n",
       "      <td>2181.3</td>\n",
       "      <td>2587.3</td>\n",
       "      <td>406.0</td>\n",
       "      <td>0.8</td>\n",
       "      <td>8</td>\n",
       "      <td>Sedentary</td>\n",
       "      <td>Fair</td>\n",
       "      <td>2</td>\n",
       "      <td>146.3</td>\n",
       "      <td>25</td>\n",
       "      <td>F</td>\n",
       "    </tr>\n",
       "    <tr>\n",
       "      <th>4</th>\n",
       "      <td>5</td>\n",
       "      <td>155.5</td>\n",
       "      <td>2463.8</td>\n",
       "      <td>3312.8</td>\n",
       "      <td>849.0</td>\n",
       "      <td>2.0</td>\n",
       "      <td>10</td>\n",
       "      <td>Lightly Active</td>\n",
       "      <td>Good</td>\n",
       "      <td>1</td>\n",
       "      <td>157.5</td>\n",
       "      <td>38</td>\n",
       "      <td>M</td>\n",
       "    </tr>\n",
       "  </tbody>\n",
       "</table>\n",
       "</div>"
      ]
     },
     "execution_count": 167,
     "metadata": {},
     "output_type": "execute_result"
    }
   ],
   "execution_count": 167
  },
  {
   "metadata": {
    "ExecuteTime": {
     "end_time": "2024-11-16T13:02:15.281360Z",
     "start_time": "2024-11-16T13:02:15.264538Z"
    }
   },
   "cell_type": "code",
   "source": "full_data.info()",
   "id": "34d502da72431962",
   "outputs": [
    {
     "name": "stdout",
     "output_type": "stream",
     "text": [
      "<class 'pandas.core.frame.DataFrame'>\n",
      "RangeIndex: 100 entries, 0 to 99\n",
      "Data columns (total 13 columns):\n",
      " #   Column                            Non-Null Count  Dtype  \n",
      "---  ------                            --------------  -----  \n",
      " 0   participant_id                    100 non-null    int64  \n",
      " 1   current_weight_lbs                100 non-null    float64\n",
      " 2   bmr_calories                      100 non-null    float64\n",
      " 3   daily_calories_consumed           100 non-null    float64\n",
      " 4   daily_caloric_surplus_or_deficit  100 non-null    float64\n",
      " 5   weight_change_lbs                 100 non-null    float64\n",
      " 6   duration_weeks                    100 non-null    int64  \n",
      " 7   physical_activity_level           100 non-null    object \n",
      " 8   sleep_quality                     100 non-null    object \n",
      " 9   stress_level                      100 non-null    int64  \n",
      " 10  final_weight_lbs                  100 non-null    float64\n",
      " 11  age                               100 non-null    int64  \n",
      " 12  gender                            100 non-null    object \n",
      "dtypes: float64(6), int64(4), object(3)\n",
      "memory usage: 10.3+ KB\n"
     ]
    }
   ],
   "execution_count": 168
  },
  {
   "metadata": {
    "ExecuteTime": {
     "end_time": "2024-11-16T13:02:15.297849Z",
     "start_time": "2024-11-16T13:02:15.281360Z"
    }
   },
   "cell_type": "code",
   "source": "full_data['physical_activity_level'].unique()",
   "id": "f01c1d98b6093ba3",
   "outputs": [
    {
     "data": {
      "text/plain": [
       "array(['Sedentary', 'Very Active', 'Lightly Active', 'Moderately Active'],\n",
       "      dtype=object)"
      ]
     },
     "execution_count": 169,
     "metadata": {},
     "output_type": "execute_result"
    }
   ],
   "execution_count": 169
  },
  {
   "metadata": {
    "ExecuteTime": {
     "end_time": "2024-11-16T13:02:15.304500Z",
     "start_time": "2024-11-16T13:02:15.297849Z"
    }
   },
   "cell_type": "code",
   "source": [
    "d = {'Sedentary': 0, 'Lightly Active': 1, 'Moderately Active': 2, 'Very Active': 3}\n",
    "full_data['physical_activity_level'] = full_data['physical_activity_level'].map(d)"
   ],
   "id": "8e45867437524021",
   "outputs": [],
   "execution_count": 170
  },
  {
   "metadata": {
    "ExecuteTime": {
     "end_time": "2024-11-16T13:02:15.314500Z",
     "start_time": "2024-11-16T13:02:15.304500Z"
    }
   },
   "cell_type": "code",
   "source": "full_data['sleep_quality'].unique()",
   "id": "77c08b76b52fc8c8",
   "outputs": [
    {
     "data": {
      "text/plain": [
       "array(['Excellent', 'Good', 'Fair', 'Poor'], dtype=object)"
      ]
     },
     "execution_count": 171,
     "metadata": {},
     "output_type": "execute_result"
    }
   ],
   "execution_count": 171
  },
  {
   "metadata": {
    "ExecuteTime": {
     "end_time": "2024-11-16T13:02:15.337920Z",
     "start_time": "2024-11-16T13:02:15.314500Z"
    }
   },
   "cell_type": "code",
   "source": [
    "d = {'Poor': 0, 'Fair': 1, 'Good': 2, 'Excellent': 3}\n",
    "full_data['sleep_quality'] = full_data['sleep_quality'].map(d)"
   ],
   "id": "9bf84bffbb8cecf6",
   "outputs": [],
   "execution_count": 172
  },
  {
   "metadata": {
    "ExecuteTime": {
     "end_time": "2024-11-16T13:02:15.348113Z",
     "start_time": "2024-11-16T13:02:15.338113Z"
    }
   },
   "cell_type": "code",
   "source": [
    "d = {'M': 0, 'F': 1}\n",
    "full_data['gender'] = full_data['gender'].map(d)"
   ],
   "id": "a95b151b2a7823da",
   "outputs": [],
   "execution_count": 173
  },
  {
   "metadata": {
    "ExecuteTime": {
     "end_time": "2024-11-16T13:02:15.397019Z",
     "start_time": "2024-11-16T13:02:15.371196Z"
    }
   },
   "cell_type": "code",
   "source": [
    "new_dtypes = {'participant_id': 'int32',\n",
    "              'current_weight_lbs': 'float32',\n",
    "              'bmr_calories': 'float32',\n",
    "              'daily_calories_consumed': 'float32',\n",
    "              'daily_caloric_surplus_or_deficit': 'float32',\n",
    "              'weight_change_lbs': 'float32',\n",
    "              'duration_weeks': 'int32',\n",
    "              'physical_activity_level': 'int32',\n",
    "              'sleep_quality': 'int32',\n",
    "              'stress_level': 'int32',\n",
    "              'final_weight_lbs': 'float32',\n",
    "              'age': 'int32',\n",
    "              'gender': 'int32'\n",
    "              }\n",
    "full_data = full_data.astype(new_dtypes)\n",
    "full_data.info()"
   ],
   "id": "e5dca48f658e1e7",
   "outputs": [
    {
     "name": "stdout",
     "output_type": "stream",
     "text": [
      "<class 'pandas.core.frame.DataFrame'>\n",
      "RangeIndex: 100 entries, 0 to 99\n",
      "Data columns (total 13 columns):\n",
      " #   Column                            Non-Null Count  Dtype  \n",
      "---  ------                            --------------  -----  \n",
      " 0   participant_id                    100 non-null    int32  \n",
      " 1   current_weight_lbs                100 non-null    float32\n",
      " 2   bmr_calories                      100 non-null    float32\n",
      " 3   daily_calories_consumed           100 non-null    float32\n",
      " 4   daily_caloric_surplus_or_deficit  100 non-null    float32\n",
      " 5   weight_change_lbs                 100 non-null    float32\n",
      " 6   duration_weeks                    100 non-null    int32  \n",
      " 7   physical_activity_level           100 non-null    int32  \n",
      " 8   sleep_quality                     100 non-null    int32  \n",
      " 9   stress_level                      100 non-null    int32  \n",
      " 10  final_weight_lbs                  100 non-null    float32\n",
      " 11  age                               100 non-null    int32  \n",
      " 12  gender                            100 non-null    int32  \n",
      "dtypes: float32(6), int32(7)\n",
      "memory usage: 5.2 KB\n"
     ]
    }
   ],
   "execution_count": 174
  },
  {
   "metadata": {},
   "cell_type": "markdown",
   "source": [
    "После нехитрых манипуляций с фреймом удалось снизить затраты памяти на его хранение практически в 2 раза.\n",
    "\n",
    "---\n",
    "Однако есть минусы, если качество сна и физическая активность становятся ранговыми признаками, с которыми всё интуитивно понятно, то в случае пола нужно перед началом работы с фреймом уточнять, что мужчины это 0, а женщины 1."
   ],
   "id": "45a696b4b8014617"
  },
  {
   "metadata": {
    "ExecuteTime": {
     "end_time": "2024-11-16T13:16:22.982522Z",
     "start_time": "2024-11-16T13:16:22.963348Z"
    }
   },
   "cell_type": "code",
   "source": "full_data['gender'].value_counts()",
   "id": "674bba2a28a675a5",
   "outputs": [
    {
     "data": {
      "text/plain": [
       "gender\n",
       "0    57\n",
       "1    43\n",
       "Name: count, dtype: int64"
      ]
     },
     "execution_count": 181,
     "metadata": {},
     "output_type": "execute_result"
    }
   ],
   "execution_count": 181
  },
  {
   "metadata": {
    "ExecuteTime": {
     "end_time": "2024-11-16T13:17:54.322059Z",
     "start_time": "2024-11-16T13:17:54.315886Z"
    }
   },
   "cell_type": "code",
   "source": "full_data['age'].value_counts().sort_values(ascending=False).head(10)",
   "id": "eacf715c5282d3d4",
   "outputs": [
    {
     "data": {
      "text/plain": [
       "age\n",
       "41    6\n",
       "25    5\n",
       "56    4\n",
       "42    4\n",
       "32    4\n",
       "38    4\n",
       "31    4\n",
       "24    4\n",
       "19    4\n",
       "46    3\n",
       "Name: count, dtype: int64"
      ]
     },
     "execution_count": 191,
     "metadata": {},
     "output_type": "execute_result"
    }
   ],
   "execution_count": 191
  },
  {
   "metadata": {
    "ExecuteTime": {
     "end_time": "2024-11-16T13:05:35.816879Z",
     "start_time": "2024-11-16T13:05:35.799884Z"
    }
   },
   "cell_type": "code",
   "source": "full_data.loc[full_data.gender == 0].age.describe()",
   "id": "3d35a0ce4b04cff8",
   "outputs": [
    {
     "data": {
      "text/plain": [
       "count    57.000000\n",
       "mean     37.561404\n",
       "std      12.889666\n",
       "min      18.000000\n",
       "25%      25.000000\n",
       "50%      38.000000\n",
       "75%      48.000000\n",
       "max      59.000000\n",
       "Name: age, dtype: float64"
      ]
     },
     "execution_count": 179,
     "metadata": {},
     "output_type": "execute_result"
    }
   ],
   "execution_count": 179
  },
  {
   "metadata": {
    "ExecuteTime": {
     "end_time": "2024-11-16T13:05:36.305211Z",
     "start_time": "2024-11-16T13:05:36.295192Z"
    }
   },
   "cell_type": "code",
   "source": "full_data.loc[full_data.gender == 1].age.describe()",
   "id": "dcdf05e02543a61",
   "outputs": [
    {
     "data": {
      "text/plain": [
       "count    43.000000\n",
       "mean     38.372093\n",
       "std      11.403891\n",
       "min      19.000000\n",
       "25%      29.500000\n",
       "50%      38.000000\n",
       "75%      45.500000\n",
       "max      58.000000\n",
       "Name: age, dtype: float64"
      ]
     },
     "execution_count": 180,
     "metadata": {},
     "output_type": "execute_result"
    }
   ],
   "execution_count": 180
  },
  {
   "metadata": {
    "ExecuteTime": {
     "end_time": "2024-11-16T13:32:08.261457Z",
     "start_time": "2024-11-16T13:32:08.063573Z"
    }
   },
   "cell_type": "code",
   "source": [
    "sns.histplot(data=full_data, x='age', hue='gender', palette=['green', 'red'], bins=40, kde=True)\n",
    "plt.legend(title='Пол', labels=['Женщины', 'Мужчины'], loc='upper right')\n",
    "plt.xlabel('Возраст')\n",
    "plt.ylabel('Частота')\n",
    "plt.title('Распределение участников по возрастам')\n",
    "plt.show()"
   ],
   "id": "f3f05ae63a42cdac",
   "outputs": [
    {
     "data": {
      "text/plain": [
       "<Figure size 640x480 with 1 Axes>"
      ],
      "image/png": "[encoded data removed]"
     },
     "metadata": {},
     "output_type": "display_data"
    }
   ],
   "execution_count": 209
  },
  {
   "metadata": {
    "ExecuteTime": {
     "end_time": "2024-11-16T13:02:15.781248Z",
     "start_time": "2024-11-16T13:02:15.682033Z"
    }
   },
   "cell_type": "code",
   "source": "sns.boxplot(data=full_data, x='gender', y='age', hue='gender')",
   "id": "677cd73f4a8b7162",
   "outputs": [
    {
     "data": {
      "text/plain": [
       "<Axes: xlabel='gender', ylabel='age'>"
      ]
     },
     "execution_count": 178,
     "metadata": {},
     "output_type": "execute_result"
    },
    {
     "data": {
      "text/plain": [
       "<Figure size 640x480 with 1 Axes>"
      ],
      "image/png": "[encoded data removed]"
     },
     "metadata": {},
     "output_type": "display_data"
    }
   ],
   "execution_count": 178
  },
  {
   "metadata": {},
   "cell_type": "markdown",
   "source": "Можно предположить например, что мужчин и женщин на самом деле поровну и проверить с помощью хи-квадрат",
   "id": "59d51ccafada594f"
  },
  {
   "metadata": {},
   "cell_type": "code",
   "outputs": [],
   "execution_count": null,
   "source": "",
   "id": "62c041faa9f1af7e"
  }
 ],
 "metadata": {
  "kernelspec": {
   "display_name": "Python [conda env:my_env] *",
   "language": "python",
   "name": "conda-env-my_env-py"
  },
  "language_info": {
   "codemirror_mode": {
    "name": "ipython",
    "version": 2
   },
   "file_extension": ".py",
   "mimetype": "text/x-python",
   "name": "python",
   "nbconvert_exporter": "python",
   "pygments_lexer": "ipython2",
   "version": "2.7.6"
  }
 },
 "nbformat": 4,
 "nbformat_minor": 5
}
